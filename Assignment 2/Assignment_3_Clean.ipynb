{
  "cells": [
    {
      "cell_type": "markdown",
      "metadata": {
        "id": "7_BO2jYnC1ge"
      },
      "source": [
        "# Assignment 3: Classification with Logistic Regression\n",
        "\n",
        "## Instructions\n",
        "\n",
        "* Complete the assignment as outlined below.\n",
        "* Restart your kernel and rerun your cells before submission.\n",
        "* Submit your completed notebook (.ipynb)."
      ],
      "id": "7_BO2jYnC1ge"
    },
    {
      "cell_type": "markdown",
      "metadata": {
        "id": "mmkN-Z_BC1gg"
      },
      "source": [
        "## Dataset Information\n",
        "\n",
        "The dataset contains health-related data for predicting diabetes. Below are the features:\n",
        "\n",
        "* `Pregnancies`: Number of pregnancies\n",
        "* `Glucose`: Plasma glucose concentration\n",
        "* `BloodPressure`: Diastolic blood pressure (mm Hg)\n",
        "* `SkinThickness`: Triceps skin fold thickness (mm)\n",
        "* `Insulin`: 2-hour serum insulin (mu U/ml)\n",
        "* `BMI`: Body mass index\n",
        "* `DiabetesPedigreeFunction`: Diabetes pedigree function\n",
        "* `Age`: Age (years)\n",
        "* `Outcome`: Target variable (1 = Diabetes, 0 = No Diabetes)\n",
        "\n",
        "Your goal in this homework is to train a first model for predicting the probability that a patient has diabetes given their healthcare data."
      ],
      "id": "mmkN-Z_BC1gg"
    },
    {
      "cell_type": "code",
      "execution_count": null,
      "metadata": {
        "id": "Up1wd2v7DhYj"
      },
      "outputs": [],
      "source": [
        "# Suggested packages, you can add more if you think they are necessary.\n",
        "import pandas as pd\n",
        "import numpy as np\n",
        "from sklearn.model_selection import train_test_split\n",
        "from sklearn.preprocessing import StandardScaler\n",
        "from sklearn.linear_model import LogisticRegression\n",
        "from sklearn.metrics import accuracy_score\n",
        "from sklearn.metrics import roc_curve, roc_auc_score\n",
        "from sklearn.pipeline import Pipeline\n",
        "\n",
        "# Plotting packages\n",
        "import matplotlib.pyplot as plt\n",
        "import seaborn as sns\n",
        "%matplotlib inline"
      ],
      "id": "Up1wd2v7DhYj"
    },
    {
      "cell_type": "code",
      "execution_count": null,
      "metadata": {
        "id": "X3iFlWRnDoDG"
      },
      "outputs": [],
      "source": [
        "# Download the data. Uncomment if using Colab.\n",
        "# !gdown https://drive.google.com/uc?id=1-_YcEl0q5LsDXRq5eix9K4gjSq78Ffd5"
      ],
      "id": "X3iFlWRnDoDG"
    },
    {
      "cell_type": "markdown",
      "metadata": {
        "id": "yafwp1DBC1gg"
      },
      "source": [
        "## Question 1:\n",
        "\n",
        "1. Load the dataset `diabetes.csv` and display the first 5 rows.\n",
        "2. Print out all columns in the dataset and identify any missing values.\n",
        "3. Show the descriptive statistics of the data."
      ],
      "id": "yafwp1DBC1gg"
    },
    {
      "cell_type": "code",
      "execution_count": null,
      "metadata": {
        "id": "byg7RoRhC1gh"
      },
      "outputs": [],
      "source": [
        "# Load the dataset\n",
        "\n"
      ],
      "id": "byg7RoRhC1gh"
    },
    {
      "cell_type": "code",
      "execution_count": null,
      "metadata": {
        "id": "OUCLqNW9C1gh"
      },
      "outputs": [],
      "source": [
        "# Report number of null values\n"
      ],
      "id": "OUCLqNW9C1gh"
    },
    {
      "cell_type": "code",
      "execution_count": null,
      "metadata": {
        "id": "TZDyr2WQC1gi"
      },
      "outputs": [],
      "source": [
        "# Show descriptive statistics\n"
      ],
      "id": "TZDyr2WQC1gi"
    },
    {
      "cell_type": "markdown",
      "metadata": {
        "id": "nwWoCjpRC1gi"
      },
      "source": [
        "## Question 2:\n",
        "\n",
        "What is the baseline accuracy for this classification problem? Baseline accuracy is the accuracy of always predicting the most common class. You can assume there are no outliers in the data."
      ],
      "id": "nwWoCjpRC1gi"
    },
    {
      "cell_type": "code",
      "execution_count": null,
      "metadata": {
        "id": "6jr2T0zPC1gj"
      },
      "outputs": [],
      "source": [
        "# Question 2 code\n"
      ],
      "id": "6jr2T0zPC1gj"
    },
    {
      "cell_type": "markdown",
      "metadata": {
        "id": "TY8uSjkkC1gk"
      },
      "source": [
        "## Question 3:\n",
        "\n",
        "Split the data into training and testing sets. Use 70% of the data for training and 30% for testing. Pass `random_state = 42` to `train_test_split`. Ensure the `Outcome` column is the response variable. Report the descriptive statistics of X_train and X_test."
      ],
      "id": "TY8uSjkkC1gk"
    },
    {
      "cell_type": "code",
      "execution_count": null,
      "metadata": {
        "id": "bOQXo-DRC1gk"
      },
      "outputs": [],
      "source": [
        "# Question 3 code\n",
        "\n",
        "\n",
        "\n",
        "\n",
        "# Show the descriptive stats\n",
        "\n",
        "\n",
        "\n"
      ],
      "id": "bOQXo-DRC1gk"
    },
    {
      "cell_type": "markdown",
      "metadata": {
        "id": "of8-EZwnJZPi"
      },
      "source": [
        "**Written question: Are the descriptive statistics of the X_train and X_test datasets similar? Is this a reasonable dataset for the problem?**"
      ],
      "id": "of8-EZwnJZPi"
    },
    {
      "cell_type": "markdown",
      "metadata": {
        "id": "M7EFl6XfJ9XB"
      },
      "source": [
        "**Written answer:**"
      ],
      "id": "M7EFl6XfJ9XB"
    },
    {
      "cell_type": "markdown",
      "metadata": {
        "id": "MaiclNWgC1gl"
      },
      "source": [
        "## Question 4:\n",
        "\n",
        "1. Create a pipeline that first standardizes the data using a z-scale transform, and then trains an instance of `LogisticRegression` with `penalty = None` and `max_iter = 1000`. Use the same random seed you used before.\n",
        "2. Train the pipeline using the training set."
      ],
      "id": "MaiclNWgC1gl"
    },
    {
      "cell_type": "code",
      "execution_count": null,
      "metadata": {
        "id": "zX-AUhrpC1gl"
      },
      "outputs": [],
      "source": [
        "# Question 4 code\n",
        "# Create a pipeline that scales the features and trains a logistic regression model\n",
        "\n",
        "\n",
        "\n",
        "\n",
        "\n",
        "\n",
        "\n",
        "\n",
        "\n",
        "\n",
        "\n",
        "# Train the pipeline\n"
      ],
      "id": "zX-AUhrpC1gl"
    },
    {
      "cell_type": "markdown",
      "source": [
        "## Question 5:\n",
        "\n",
        "1. Compute the model’s accuracy on the training and testing sets.\n",
        "2. Display the model’s coefficients and intercept."
      ],
      "metadata": {
        "id": "WAnv4-Nqhp_U"
      },
      "id": "WAnv4-Nqhp_U"
    },
    {
      "cell_type": "code",
      "execution_count": null,
      "metadata": {
        "id": "eyXmnFjRL7D4"
      },
      "outputs": [],
      "source": [
        "# Display coefficients\n",
        "# Get the training parameters in a dataframe with the corresponding feature names\n",
        "\n",
        "\n",
        "\n",
        "# Get the intercept of the logistic regression model\n",
        "\n"
      ],
      "id": "eyXmnFjRL7D4"
    },
    {
      "cell_type": "code",
      "execution_count": null,
      "metadata": {
        "id": "3U4frtj0MN0q"
      },
      "outputs": [],
      "source": [
        "# Calculate accuracy\n",
        "\n",
        "\n",
        "\n"
      ],
      "id": "3U4frtj0MN0q"
    },
    {
      "cell_type": "markdown",
      "metadata": {
        "id": "lYiUpH_YC1gm"
      },
      "source": [
        "## Question 6:\n",
        "\n",
        "1. Plot the ROC curve for the logistic regression model using the testing set. Make sure your plot includes a title and properly labeled axes.\n",
        "2. Compute the area under the curve (AUC). Report the AUC at the top-left of your plot."
      ],
      "id": "lYiUpH_YC1gm"
    },
    {
      "cell_type": "code",
      "execution_count": null,
      "metadata": {
        "id": "9KVu82JLC1gn"
      },
      "outputs": [],
      "source": [
        "# Question 6 code\n",
        "# Compute probabilities\n",
        "\n",
        "\n",
        "\n",
        "\n",
        "# Plot ROC curve\n",
        "\n",
        "\n",
        "\n",
        "\n",
        "\n"
      ],
      "id": "9KVu82JLC1gn"
    },
    {
      "cell_type": "markdown",
      "metadata": {
        "id": "HCZwuokNhJ5t"
      },
      "source": [
        "**Written question: Comment on the capacity of the model to predict the outcome. Is the AUC acceptable?**"
      ],
      "id": "HCZwuokNhJ5t"
    },
    {
      "cell_type": "markdown",
      "metadata": {
        "id": "pHYWJFK0QmFG"
      },
      "source": [
        "**Written answer:**"
      ],
      "id": "pHYWJFK0QmFG"
    }
  ],
  "metadata": {
    "colab": {
      "provenance": []
    },
    "kernelspec": {
      "display_name": "Python 3",
      "language": "python",
      "name": "python3"
    },
    "language_info": {
      "codemirror_mode": {
        "name": "ipython",
        "version": 3
      },
      "file_extension": ".py",
      "mimetype": "text/x-python",
      "name": "python",
      "nbconvert_exporter": "python",
      "pygments_lexer": "ipython3",
      "version": "3.7.6"
    }
  },
  "nbformat": 4,
  "nbformat_minor": 5
}