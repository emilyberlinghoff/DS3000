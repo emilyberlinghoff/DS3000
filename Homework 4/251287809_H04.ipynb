{
  "cells": [
    {
      "cell_type": "markdown",
      "metadata": {
        "id": "view-in-github",
        "colab_type": "text"
      },
      "source": [
        "<a href=\"https://colab.research.google.com/github/emilyberlinghoff/DS3000/blob/main/Homework%204/251287809_H04.ipynb\" target=\"_parent\"><img src=\"https://colab.research.google.com/assets/colab-badge.svg\" alt=\"Open In Colab\"/></a>"
      ]
    },
    {
      "cell_type": "markdown",
      "metadata": {
        "id": "twKpLeRhDeyQ"
      },
      "source": [
        "# Homework 4\n",
        "\n",
        "## Follow These Steps Before Submitting\n",
        "Once you are finished, ensure to complete the following steps.\n",
        "\n",
        "1.  Restart your kernel by clicking 'Kernel' > 'Restart & Run All'.\n",
        "\n",
        "2.  Fix any errors which result from this.\n",
        "\n",
        "3.  Repeat steps 1. and 2. until your notebook runs without errors.\n",
        "\n",
        "4.  Submit your completed notebook to OWL by the deadline.\n"
      ]
    },
    {
      "cell_type": "markdown",
      "source": [
        "# 1. Wisconsin Breast Cancer Dataset\n",
        "\n",
        "In this assignment, you will use a modified version of the well-known Wisconsin Breast Cancer dataset. We want to predict if a patient has a malignant or benign tumour. The features in the dataset are described below:\n",
        "\n",
        "\n",
        "**Cl.thickness**:\tClump Thickness\n",
        "\n",
        "**Cell.size**:\tUniformity of Cell Size\n",
        "\n",
        "**Cell.shape**:\tUniformity of Cell Shape\n",
        "\n",
        "**Marg.adhesion**:\tMarginal Adhesion\n",
        "\n",
        "**Epith.c.size**:\tSingle Epithelial Cell Size\n",
        "\n",
        "**Bare.nuclei**:\tBare Nuclei\n",
        "\n",
        "**Bl.cromatin**:\tBland Chromatin\n",
        "\n",
        "**Normal.nucleoli**:\tNormal Nucleoli\n",
        "\n",
        "**Mitoses**:\tMitoses\n",
        "\n",
        "**Age**: Age\n",
        "\n",
        "**Class**: 1 if malignant, 0 if benign"
      ],
      "metadata": {
        "id": "waD8EZwFMt1U"
      }
    },
    {
      "cell_type": "code",
      "execution_count": 53,
      "metadata": {
        "id": "zJdm6Uxlq-kc"
      },
      "outputs": [],
      "source": [
        "# Package import\n",
        "import numpy as np\n",
        "\n",
        "# Scikit-learn imports\n",
        "from sklearn.model_selection import train_test_split, cross_validate, RepeatedKFold\n",
        "from sklearn.pipeline import Pipeline\n",
        "from sklearn.linear_model import LogisticRegression\n",
        "from sklearn.metrics import confusion_matrix, roc_curve, roc_auc_score, classification_report, accuracy_score\n",
        "from sklearn.preprocessing import StandardScaler\n",
        "from sklearn.compose import ColumnTransformer\n",
        "\n",
        "# Data management imports\n",
        "import pandas as pd\n",
        "import polars as pl\n",
        "\n",
        "# Plotting imports\n",
        "import matplotlib.pyplot as plt\n",
        "import seaborn as sns\n",
        "%matplotlib inline"
      ]
    },
    {
      "cell_type": "code",
      "source": [
        "# Uncomment the line below if you are using Google colab\n",
        "# !gdown https://drive.google.com/uc?id=12Y-PdpmPLInGGBvFAn_G3eCfXrRETvuF"
      ],
      "metadata": {
        "id": "nKQxNU4X6i3I"
      },
      "execution_count": 54,
      "outputs": []
    },
    {
      "cell_type": "markdown",
      "metadata": {
        "id": "tTKdVYZLGm-b"
      },
      "source": [
        "1. Read the CSV file using Polars and store it. Use \"null_values=['NA']\". Show summary statistics for the dataset. What is the baseline accuracy for a model?"
      ]
    },
    {
      "cell_type": "code",
      "execution_count": 55,
      "metadata": {
        "id": "Wj-Yl2t5JW0Y",
        "colab": {
          "base_uri": "https://localhost:8080/"
        },
        "outputId": "45a9d5d2-6b67-4152-9f28-1333c54c6923"
      },
      "outputs": [
        {
          "output_type": "stream",
          "name": "stdout",
          "text": [
            "Summary Statistics:\n",
            " shape: (9, 12)\n",
            "┌────────────┬───────────┬───────────┬───────────┬───┬───────────┬──────────┬──────────┬───────────┐\n",
            "│ statistic  ┆ Cl.thickn ┆ Cell.size ┆ Cell.shap ┆ … ┆ Normal.nu ┆ Mitoses  ┆ Class    ┆ Age       │\n",
            "│ ---        ┆ ess       ┆ ---       ┆ e         ┆   ┆ cleoli    ┆ ---      ┆ ---      ┆ ---       │\n",
            "│ str        ┆ ---       ┆ f64       ┆ ---       ┆   ┆ ---       ┆ f64      ┆ f64      ┆ f64       │\n",
            "│            ┆ f64       ┆           ┆ f64       ┆   ┆ f64       ┆          ┆          ┆           │\n",
            "╞════════════╪═══════════╪═══════════╪═══════════╪═══╪═══════════╪══════════╪══════════╪═══════════╡\n",
            "│ count      ┆ 696.0     ┆ 694.0     ┆ 694.0     ┆ … ┆ 699.0     ┆ 699.0    ┆ 699.0    ┆ 699.0     │\n",
            "│ null_count ┆ 3.0       ┆ 5.0       ┆ 5.0       ┆ … ┆ 0.0       ┆ 0.0      ┆ 0.0      ┆ 0.0       │\n",
            "│ mean       ┆ 4.426724  ┆ 3.136888  ┆ 3.208934  ┆ … ┆ 2.866953  ┆ 1.569385 ┆ 0.344778 ┆ 50.100143 │\n",
            "│ std        ┆ 2.815748  ┆ 3.053632  ┆ 2.973356  ┆ … ┆ 3.053634  ┆ 1.619803 ┆ 0.475636 ┆ 17.97766  │\n",
            "│ min        ┆ 1.0       ┆ 1.0       ┆ 1.0       ┆ … ┆ 1.0       ┆ 1.0      ┆ 0.0      ┆ 3.0       │\n",
            "│ 25%        ┆ 2.0       ┆ 1.0       ┆ 1.0       ┆ … ┆ 1.0       ┆ 1.0      ┆ 0.0      ┆ 38.0      │\n",
            "│ 50%        ┆ 4.0       ┆ 1.0       ┆ 1.0       ┆ … ┆ 1.0       ┆ 1.0      ┆ 0.0      ┆ 50.0      │\n",
            "│ 75%        ┆ 6.0       ┆ 5.0       ┆ 5.0       ┆ … ┆ 4.0       ┆ 1.0      ┆ 1.0      ┆ 62.0      │\n",
            "│ max        ┆ 10.0      ┆ 10.0      ┆ 10.0      ┆ … ┆ 10.0      ┆ 9.0      ┆ 1.0      ┆ 105.0     │\n",
            "└────────────┴───────────┴───────────┴───────────┴───┴───────────┴──────────┴──────────┴───────────┘\n",
            "\n",
            "Column Names in value_counts(): ['Class', 'count']\n",
            "\n",
            "Class Distribution:\n",
            " shape: (2, 2)\n",
            "┌───────┬───────┐\n",
            "│ Class ┆ count │\n",
            "│ ---   ┆ ---   │\n",
            "│ i64   ┆ u32   │\n",
            "╞═══════╪═══════╡\n",
            "│ 1     ┆ 241   │\n",
            "│ 0     ┆ 458   │\n",
            "└───────┴───────┘\n",
            "\n",
            "Baseline Accuracy (predicting majority class '0'): 0.6552\n"
          ]
        }
      ],
      "source": [
        "# Load the dataset using Polars and treat 'NA' as null values\n",
        "df_pl = pl.read_csv(\"Breast Cancer Data.csv\", null_values=['NA'])\n",
        "\n",
        "# Display summary statistics\n",
        "print(\"Summary Statistics:\\n\", df_pl.describe())\n",
        "\n",
        "# Check class distribution for baseline accuracy\n",
        "class_counts = df_pl['Class'].value_counts()\n",
        "\n",
        "# Print column names for debugging\n",
        "print(\"\\nColumn Names in value_counts():\", class_counts.columns)\n",
        "\n",
        "# Extract actual column names dynamically\n",
        "class_col, count_col = class_counts.columns\n",
        "\n",
        "# Sort to find the majority class (most frequent)\n",
        "sorted_counts = class_counts.sort(count_col, descending=True)\n",
        "\n",
        "# Extract the majority class and compute baseline accuracy\n",
        "majority_class = sorted_counts[class_col][0]  # Extracts first row's class\n",
        "baseline_accuracy = sorted_counts[count_col][0] / sorted_counts[count_col].sum()\n",
        "\n",
        "print(\"\\nClass Distribution:\\n\", class_counts)\n",
        "print(f\"\\nBaseline Accuracy (predicting majority class '{majority_class}'): {baseline_accuracy:.4f}\")"
      ]
    },
    {
      "cell_type": "markdown",
      "source": [
        "Baseline accuray is 0.6552 (65.52%)"
      ],
      "metadata": {
        "id": "P6oA1stMv5Fj"
      }
    },
    {
      "cell_type": "markdown",
      "source": [
        "2. Assume that we are only interested in studying people aged 100 or less. Remove anyone with ages larger than that. (Note that this slightly changes your baseline accuracy.)"
      ],
      "metadata": {
        "id": "1tw6pJdOcY_k"
      }
    },
    {
      "cell_type": "code",
      "source": [
        "# Filter out individuals older than 100\n",
        "df_filtered = df_pl.filter(df_pl[\"Age\"] <= 100)\n",
        "\n",
        "# Display new dataset summary\n",
        "print(\"Updated Summary Statistics:\\n\", df_filtered.describe())\n",
        "\n",
        "# Recalculate class distribution and baseline accuracy\n",
        "class_counts_filtered = df_filtered['Class'].value_counts()\n",
        "\n",
        "# Extract column names dynamically\n",
        "class_col, count_col = class_counts_filtered.columns\n",
        "\n",
        "# Sort to find the majority class\n",
        "sorted_counts_filtered = class_counts_filtered.sort(count_col, descending=True)\n",
        "\n",
        "# Extract majority class and compute new baseline accuracy\n",
        "majority_class_filtered = sorted_counts_filtered[class_col][0]\n",
        "baseline_accuracy_filtered = sorted_counts_filtered[count_col][0] / sorted_counts_filtered[count_col].sum()\n",
        "\n",
        "# Print updated class distribution and baseline accuracy\n",
        "print(\"\\nUpdated Class Distribution:\\n\", class_counts_filtered)\n",
        "print(f\"\\nNew Baseline Accuracy (predicting majority class '{majority_class_filtered}'): {baseline_accuracy_filtered:.4f}\")"
      ],
      "metadata": {
        "id": "CwASQWPl87ye",
        "colab": {
          "base_uri": "https://localhost:8080/"
        },
        "outputId": "49cbeab7-4ae2-449e-f2ab-005ae449d4a0"
      },
      "execution_count": 56,
      "outputs": [
        {
          "output_type": "stream",
          "name": "stdout",
          "text": [
            "Updated Summary Statistics:\n",
            " shape: (9, 12)\n",
            "┌────────────┬───────────┬───────────┬───────────┬───┬───────────┬──────────┬──────────┬───────────┐\n",
            "│ statistic  ┆ Cl.thickn ┆ Cell.size ┆ Cell.shap ┆ … ┆ Normal.nu ┆ Mitoses  ┆ Class    ┆ Age       │\n",
            "│ ---        ┆ ess       ┆ ---       ┆ e         ┆   ┆ cleoli    ┆ ---      ┆ ---      ┆ ---       │\n",
            "│ str        ┆ ---       ┆ f64       ┆ ---       ┆   ┆ ---       ┆ f64      ┆ f64      ┆ f64       │\n",
            "│            ┆ f64       ┆           ┆ f64       ┆   ┆ f64       ┆          ┆          ┆           │\n",
            "╞════════════╪═══════════╪═══════════╪═══════════╪═══╪═══════════╪══════════╪══════════╪═══════════╡\n",
            "│ count      ┆ 694.0     ┆ 692.0     ┆ 692.0     ┆ … ┆ 697.0     ┆ 697.0    ┆ 697.0    ┆ 697.0     │\n",
            "│ null_count ┆ 3.0       ┆ 5.0       ┆ 5.0       ┆ … ┆ 0.0       ┆ 0.0      ┆ 0.0      ┆ 0.0       │\n",
            "│ mean       ┆ 4.419308  ┆ 3.130058  ┆ 3.202312  ┆ … ┆ 2.870875  ┆ 1.571019 ┆ 0.344333 ┆ 49.942611 │\n",
            "│ std        ┆ 2.811793  ┆ 3.04579   ┆ 2.965229  ┆ … ┆ 3.05702   ┆ 1.62184  ┆ 0.475491 ┆ 17.760609 │\n",
            "│ min        ┆ 1.0       ┆ 1.0       ┆ 1.0       ┆ … ┆ 1.0       ┆ 1.0      ┆ 0.0      ┆ 3.0       │\n",
            "│ 25%        ┆ 2.0       ┆ 1.0       ┆ 1.0       ┆ … ┆ 1.0       ┆ 1.0      ┆ 0.0      ┆ 38.0      │\n",
            "│ 50%        ┆ 4.0       ┆ 1.0       ┆ 1.0       ┆ … ┆ 1.0       ┆ 1.0      ┆ 0.0      ┆ 50.0      │\n",
            "│ 75%        ┆ 6.0       ┆ 5.0       ┆ 5.0       ┆ … ┆ 4.0       ┆ 1.0      ┆ 1.0      ┆ 62.0      │\n",
            "│ max        ┆ 10.0      ┆ 10.0      ┆ 10.0      ┆ … ┆ 10.0      ┆ 9.0      ┆ 1.0      ┆ 99.0      │\n",
            "└────────────┴───────────┴───────────┴───────────┴───┴───────────┴──────────┴──────────┴───────────┘\n",
            "\n",
            "Updated Class Distribution:\n",
            " shape: (2, 2)\n",
            "┌───────┬───────┐\n",
            "│ Class ┆ count │\n",
            "│ ---   ┆ ---   │\n",
            "│ i64   ┆ u32   │\n",
            "╞═══════╪═══════╡\n",
            "│ 1     ┆ 240   │\n",
            "│ 0     ┆ 457   │\n",
            "└───────┴───────┘\n",
            "\n",
            "New Baseline Accuracy (predicting majority class '0'): 0.6557\n"
          ]
        }
      ]
    },
    {
      "cell_type": "markdown",
      "source": [
        "3. Replace the missing values in the dataset using the median of the corresponding predictor."
      ],
      "metadata": {
        "id": "4rSrLV3hnrek"
      }
    },
    {
      "cell_type": "code",
      "source": [
        "# Replace missing values with the median of each column\n",
        "df_filled = df_filtered.with_columns([\n",
        "    df_filtered[col].fill_null(df_filtered[col].median()) for col in df_filtered.columns\n",
        "])\n",
        "\n",
        "# Verify if any missing values remain\n",
        "print(\"Missing values after imputation:\\n\", df_filled.null_count())"
      ],
      "metadata": {
        "id": "htFdyZepn1uB",
        "colab": {
          "base_uri": "https://localhost:8080/"
        },
        "outputId": "213b3eaf-7256-4ce2-fcfa-c891c9ed84e9"
      },
      "execution_count": 57,
      "outputs": [
        {
          "output_type": "stream",
          "name": "stdout",
          "text": [
            "Missing values after imputation:\n",
            " shape: (1, 11)\n",
            "┌──────────────┬───────────┬────────────┬───────────────┬───┬──────────────┬─────────┬───────┬─────┐\n",
            "│ Cl.thickness ┆ Cell.size ┆ Cell.shape ┆ Marg.adhesion ┆ … ┆ Normal.nucle ┆ Mitoses ┆ Class ┆ Age │\n",
            "│ ---          ┆ ---       ┆ ---        ┆ ---           ┆   ┆ oli          ┆ ---     ┆ ---   ┆ --- │\n",
            "│ u32          ┆ u32       ┆ u32        ┆ u32           ┆   ┆ ---          ┆ u32     ┆ u32   ┆ u32 │\n",
            "│              ┆           ┆            ┆               ┆   ┆ u32          ┆         ┆       ┆     │\n",
            "╞══════════════╪═══════════╪════════════╪═══════════════╪═══╪══════════════╪═════════╪═══════╪═════╡\n",
            "│ 0            ┆ 0         ┆ 0          ┆ 0             ┆ … ┆ 0            ┆ 0       ┆ 0     ┆ 0   │\n",
            "└──────────────┴───────────┴────────────┴───────────────┴───┴──────────────┴─────────┴───────┴─────┘\n"
          ]
        }
      ]
    },
    {
      "cell_type": "markdown",
      "source": [
        "4. Create a training and testing dataset. Reserve 30% of the data for testing and stratify the split based on the outcome. Use a random state of 0."
      ],
      "metadata": {
        "id": "GR9-bjxqcZ_V"
      }
    },
    {
      "cell_type": "code",
      "source": [
        "# Separate features and target variable\n",
        "X = df_filled.drop(\"Class\")  # Features\n",
        "y = df_filled[\"Class\"]       # Target variable\n",
        "\n",
        "# Split data into 70% training and 30% testing while stratifying based on the target variable\n",
        "X_train, X_test, y_train, y_test = train_test_split(\n",
        "    X, y, test_size=0.3, stratify=y, random_state=0\n",
        ")\n",
        "\n",
        "# Print dataset sizes to confirm\n",
        "print(f\"Training Set Size: {X_train.shape[0]} samples\")\n",
        "print(f\"Testing Set Size: {X_test.shape[0]} samples\")"
      ],
      "metadata": {
        "id": "uKXVS9DWcaPy",
        "colab": {
          "base_uri": "https://localhost:8080/"
        },
        "outputId": "3477ae70-7ae4-4b23-eb3d-c1af506d2055"
      },
      "execution_count": 58,
      "outputs": [
        {
          "output_type": "stream",
          "name": "stdout",
          "text": [
            "Training Set Size: 487 samples\n",
            "Testing Set Size: 210 samples\n"
          ]
        }
      ]
    },
    {
      "cell_type": "markdown",
      "source": [
        "5. Using all potential predictors, train a logistic regression model to predict if a patient has the condition. Remember to standardize the predictors. Use the following arguments: solver='lbfgs', penalty=None, max_iter=10000, verbose=1, random_state=0, and n_jobs=-1."
      ],
      "metadata": {
        "id": "ZD6jBNP7wd_d"
      }
    },
    {
      "cell_type": "code",
      "source": [
        "# Create a pipeline with feature scaling and logistic regression\n",
        "pipeline = Pipeline([\n",
        "    ('scaler', StandardScaler()),  # Standardize predictors\n",
        "    ('classifier', LogisticRegression(\n",
        "        solver='lbfgs',     # Optimization algorithm\n",
        "        penalty=None,       # No regularization\n",
        "        max_iter=10000,     # Ensure convergence\n",
        "        verbose=1,          # Display training progress\n",
        "        random_state=0,     # Reproducibility\n",
        "        n_jobs=-1           # Use all available CPU cores\n",
        "    ))\n",
        "])\n",
        "\n",
        "# Train the logistic regression model\n",
        "pipeline.fit(X_train, y_train)"
      ],
      "metadata": {
        "id": "SVgbr2N1wt97",
        "colab": {
          "base_uri": "https://localhost:8080/",
          "height": 173
        },
        "outputId": "8e5fbe1a-9e53-49b7-c694-73429ea40fbf"
      },
      "execution_count": 59,
      "outputs": [
        {
          "output_type": "stream",
          "name": "stderr",
          "text": [
            "[Parallel(n_jobs=-1)]: Using backend LokyBackend with 2 concurrent workers.\n"
          ]
        },
        {
          "output_type": "execute_result",
          "data": {
            "text/plain": [
              "Pipeline(steps=[('scaler', StandardScaler()),\n",
              "                ('classifier',\n",
              "                 LogisticRegression(max_iter=10000, n_jobs=-1, penalty=None,\n",
              "                                    random_state=0, verbose=1))])"
            ],
            "text/html": [
              "<style>#sk-container-id-4 {\n",
              "  /* Definition of color scheme common for light and dark mode */\n",
              "  --sklearn-color-text: #000;\n",
              "  --sklearn-color-text-muted: #666;\n",
              "  --sklearn-color-line: gray;\n",
              "  /* Definition of color scheme for unfitted estimators */\n",
              "  --sklearn-color-unfitted-level-0: #fff5e6;\n",
              "  --sklearn-color-unfitted-level-1: #f6e4d2;\n",
              "  --sklearn-color-unfitted-level-2: #ffe0b3;\n",
              "  --sklearn-color-unfitted-level-3: chocolate;\n",
              "  /* Definition of color scheme for fitted estimators */\n",
              "  --sklearn-color-fitted-level-0: #f0f8ff;\n",
              "  --sklearn-color-fitted-level-1: #d4ebff;\n",
              "  --sklearn-color-fitted-level-2: #b3dbfd;\n",
              "  --sklearn-color-fitted-level-3: cornflowerblue;\n",
              "\n",
              "  /* Specific color for light theme */\n",
              "  --sklearn-color-text-on-default-background: var(--sg-text-color, var(--theme-code-foreground, var(--jp-content-font-color1, black)));\n",
              "  --sklearn-color-background: var(--sg-background-color, var(--theme-background, var(--jp-layout-color0, white)));\n",
              "  --sklearn-color-border-box: var(--sg-text-color, var(--theme-code-foreground, var(--jp-content-font-color1, black)));\n",
              "  --sklearn-color-icon: #696969;\n",
              "\n",
              "  @media (prefers-color-scheme: dark) {\n",
              "    /* Redefinition of color scheme for dark theme */\n",
              "    --sklearn-color-text-on-default-background: var(--sg-text-color, var(--theme-code-foreground, var(--jp-content-font-color1, white)));\n",
              "    --sklearn-color-background: var(--sg-background-color, var(--theme-background, var(--jp-layout-color0, #111)));\n",
              "    --sklearn-color-border-box: var(--sg-text-color, var(--theme-code-foreground, var(--jp-content-font-color1, white)));\n",
              "    --sklearn-color-icon: #878787;\n",
              "  }\n",
              "}\n",
              "\n",
              "#sk-container-id-4 {\n",
              "  color: var(--sklearn-color-text);\n",
              "}\n",
              "\n",
              "#sk-container-id-4 pre {\n",
              "  padding: 0;\n",
              "}\n",
              "\n",
              "#sk-container-id-4 input.sk-hidden--visually {\n",
              "  border: 0;\n",
              "  clip: rect(1px 1px 1px 1px);\n",
              "  clip: rect(1px, 1px, 1px, 1px);\n",
              "  height: 1px;\n",
              "  margin: -1px;\n",
              "  overflow: hidden;\n",
              "  padding: 0;\n",
              "  position: absolute;\n",
              "  width: 1px;\n",
              "}\n",
              "\n",
              "#sk-container-id-4 div.sk-dashed-wrapped {\n",
              "  border: 1px dashed var(--sklearn-color-line);\n",
              "  margin: 0 0.4em 0.5em 0.4em;\n",
              "  box-sizing: border-box;\n",
              "  padding-bottom: 0.4em;\n",
              "  background-color: var(--sklearn-color-background);\n",
              "}\n",
              "\n",
              "#sk-container-id-4 div.sk-container {\n",
              "  /* jupyter's `normalize.less` sets `[hidden] { display: none; }`\n",
              "     but bootstrap.min.css set `[hidden] { display: none !important; }`\n",
              "     so we also need the `!important` here to be able to override the\n",
              "     default hidden behavior on the sphinx rendered scikit-learn.org.\n",
              "     See: https://github.com/scikit-learn/scikit-learn/issues/21755 */\n",
              "  display: inline-block !important;\n",
              "  position: relative;\n",
              "}\n",
              "\n",
              "#sk-container-id-4 div.sk-text-repr-fallback {\n",
              "  display: none;\n",
              "}\n",
              "\n",
              "div.sk-parallel-item,\n",
              "div.sk-serial,\n",
              "div.sk-item {\n",
              "  /* draw centered vertical line to link estimators */\n",
              "  background-image: linear-gradient(var(--sklearn-color-text-on-default-background), var(--sklearn-color-text-on-default-background));\n",
              "  background-size: 2px 100%;\n",
              "  background-repeat: no-repeat;\n",
              "  background-position: center center;\n",
              "}\n",
              "\n",
              "/* Parallel-specific style estimator block */\n",
              "\n",
              "#sk-container-id-4 div.sk-parallel-item::after {\n",
              "  content: \"\";\n",
              "  width: 100%;\n",
              "  border-bottom: 2px solid var(--sklearn-color-text-on-default-background);\n",
              "  flex-grow: 1;\n",
              "}\n",
              "\n",
              "#sk-container-id-4 div.sk-parallel {\n",
              "  display: flex;\n",
              "  align-items: stretch;\n",
              "  justify-content: center;\n",
              "  background-color: var(--sklearn-color-background);\n",
              "  position: relative;\n",
              "}\n",
              "\n",
              "#sk-container-id-4 div.sk-parallel-item {\n",
              "  display: flex;\n",
              "  flex-direction: column;\n",
              "}\n",
              "\n",
              "#sk-container-id-4 div.sk-parallel-item:first-child::after {\n",
              "  align-self: flex-end;\n",
              "  width: 50%;\n",
              "}\n",
              "\n",
              "#sk-container-id-4 div.sk-parallel-item:last-child::after {\n",
              "  align-self: flex-start;\n",
              "  width: 50%;\n",
              "}\n",
              "\n",
              "#sk-container-id-4 div.sk-parallel-item:only-child::after {\n",
              "  width: 0;\n",
              "}\n",
              "\n",
              "/* Serial-specific style estimator block */\n",
              "\n",
              "#sk-container-id-4 div.sk-serial {\n",
              "  display: flex;\n",
              "  flex-direction: column;\n",
              "  align-items: center;\n",
              "  background-color: var(--sklearn-color-background);\n",
              "  padding-right: 1em;\n",
              "  padding-left: 1em;\n",
              "}\n",
              "\n",
              "\n",
              "/* Toggleable style: style used for estimator/Pipeline/ColumnTransformer box that is\n",
              "clickable and can be expanded/collapsed.\n",
              "- Pipeline and ColumnTransformer use this feature and define the default style\n",
              "- Estimators will overwrite some part of the style using the `sk-estimator` class\n",
              "*/\n",
              "\n",
              "/* Pipeline and ColumnTransformer style (default) */\n",
              "\n",
              "#sk-container-id-4 div.sk-toggleable {\n",
              "  /* Default theme specific background. It is overwritten whether we have a\n",
              "  specific estimator or a Pipeline/ColumnTransformer */\n",
              "  background-color: var(--sklearn-color-background);\n",
              "}\n",
              "\n",
              "/* Toggleable label */\n",
              "#sk-container-id-4 label.sk-toggleable__label {\n",
              "  cursor: pointer;\n",
              "  display: flex;\n",
              "  width: 100%;\n",
              "  margin-bottom: 0;\n",
              "  padding: 0.5em;\n",
              "  box-sizing: border-box;\n",
              "  text-align: center;\n",
              "  align-items: start;\n",
              "  justify-content: space-between;\n",
              "  gap: 0.5em;\n",
              "}\n",
              "\n",
              "#sk-container-id-4 label.sk-toggleable__label .caption {\n",
              "  font-size: 0.6rem;\n",
              "  font-weight: lighter;\n",
              "  color: var(--sklearn-color-text-muted);\n",
              "}\n",
              "\n",
              "#sk-container-id-4 label.sk-toggleable__label-arrow:before {\n",
              "  /* Arrow on the left of the label */\n",
              "  content: \"▸\";\n",
              "  float: left;\n",
              "  margin-right: 0.25em;\n",
              "  color: var(--sklearn-color-icon);\n",
              "}\n",
              "\n",
              "#sk-container-id-4 label.sk-toggleable__label-arrow:hover:before {\n",
              "  color: var(--sklearn-color-text);\n",
              "}\n",
              "\n",
              "/* Toggleable content - dropdown */\n",
              "\n",
              "#sk-container-id-4 div.sk-toggleable__content {\n",
              "  max-height: 0;\n",
              "  max-width: 0;\n",
              "  overflow: hidden;\n",
              "  text-align: left;\n",
              "  /* unfitted */\n",
              "  background-color: var(--sklearn-color-unfitted-level-0);\n",
              "}\n",
              "\n",
              "#sk-container-id-4 div.sk-toggleable__content.fitted {\n",
              "  /* fitted */\n",
              "  background-color: var(--sklearn-color-fitted-level-0);\n",
              "}\n",
              "\n",
              "#sk-container-id-4 div.sk-toggleable__content pre {\n",
              "  margin: 0.2em;\n",
              "  border-radius: 0.25em;\n",
              "  color: var(--sklearn-color-text);\n",
              "  /* unfitted */\n",
              "  background-color: var(--sklearn-color-unfitted-level-0);\n",
              "}\n",
              "\n",
              "#sk-container-id-4 div.sk-toggleable__content.fitted pre {\n",
              "  /* unfitted */\n",
              "  background-color: var(--sklearn-color-fitted-level-0);\n",
              "}\n",
              "\n",
              "#sk-container-id-4 input.sk-toggleable__control:checked~div.sk-toggleable__content {\n",
              "  /* Expand drop-down */\n",
              "  max-height: 200px;\n",
              "  max-width: 100%;\n",
              "  overflow: auto;\n",
              "}\n",
              "\n",
              "#sk-container-id-4 input.sk-toggleable__control:checked~label.sk-toggleable__label-arrow:before {\n",
              "  content: \"▾\";\n",
              "}\n",
              "\n",
              "/* Pipeline/ColumnTransformer-specific style */\n",
              "\n",
              "#sk-container-id-4 div.sk-label input.sk-toggleable__control:checked~label.sk-toggleable__label {\n",
              "  color: var(--sklearn-color-text);\n",
              "  background-color: var(--sklearn-color-unfitted-level-2);\n",
              "}\n",
              "\n",
              "#sk-container-id-4 div.sk-label.fitted input.sk-toggleable__control:checked~label.sk-toggleable__label {\n",
              "  background-color: var(--sklearn-color-fitted-level-2);\n",
              "}\n",
              "\n",
              "/* Estimator-specific style */\n",
              "\n",
              "/* Colorize estimator box */\n",
              "#sk-container-id-4 div.sk-estimator input.sk-toggleable__control:checked~label.sk-toggleable__label {\n",
              "  /* unfitted */\n",
              "  background-color: var(--sklearn-color-unfitted-level-2);\n",
              "}\n",
              "\n",
              "#sk-container-id-4 div.sk-estimator.fitted input.sk-toggleable__control:checked~label.sk-toggleable__label {\n",
              "  /* fitted */\n",
              "  background-color: var(--sklearn-color-fitted-level-2);\n",
              "}\n",
              "\n",
              "#sk-container-id-4 div.sk-label label.sk-toggleable__label,\n",
              "#sk-container-id-4 div.sk-label label {\n",
              "  /* The background is the default theme color */\n",
              "  color: var(--sklearn-color-text-on-default-background);\n",
              "}\n",
              "\n",
              "/* On hover, darken the color of the background */\n",
              "#sk-container-id-4 div.sk-label:hover label.sk-toggleable__label {\n",
              "  color: var(--sklearn-color-text);\n",
              "  background-color: var(--sklearn-color-unfitted-level-2);\n",
              "}\n",
              "\n",
              "/* Label box, darken color on hover, fitted */\n",
              "#sk-container-id-4 div.sk-label.fitted:hover label.sk-toggleable__label.fitted {\n",
              "  color: var(--sklearn-color-text);\n",
              "  background-color: var(--sklearn-color-fitted-level-2);\n",
              "}\n",
              "\n",
              "/* Estimator label */\n",
              "\n",
              "#sk-container-id-4 div.sk-label label {\n",
              "  font-family: monospace;\n",
              "  font-weight: bold;\n",
              "  display: inline-block;\n",
              "  line-height: 1.2em;\n",
              "}\n",
              "\n",
              "#sk-container-id-4 div.sk-label-container {\n",
              "  text-align: center;\n",
              "}\n",
              "\n",
              "/* Estimator-specific */\n",
              "#sk-container-id-4 div.sk-estimator {\n",
              "  font-family: monospace;\n",
              "  border: 1px dotted var(--sklearn-color-border-box);\n",
              "  border-radius: 0.25em;\n",
              "  box-sizing: border-box;\n",
              "  margin-bottom: 0.5em;\n",
              "  /* unfitted */\n",
              "  background-color: var(--sklearn-color-unfitted-level-0);\n",
              "}\n",
              "\n",
              "#sk-container-id-4 div.sk-estimator.fitted {\n",
              "  /* fitted */\n",
              "  background-color: var(--sklearn-color-fitted-level-0);\n",
              "}\n",
              "\n",
              "/* on hover */\n",
              "#sk-container-id-4 div.sk-estimator:hover {\n",
              "  /* unfitted */\n",
              "  background-color: var(--sklearn-color-unfitted-level-2);\n",
              "}\n",
              "\n",
              "#sk-container-id-4 div.sk-estimator.fitted:hover {\n",
              "  /* fitted */\n",
              "  background-color: var(--sklearn-color-fitted-level-2);\n",
              "}\n",
              "\n",
              "/* Specification for estimator info (e.g. \"i\" and \"?\") */\n",
              "\n",
              "/* Common style for \"i\" and \"?\" */\n",
              "\n",
              ".sk-estimator-doc-link,\n",
              "a:link.sk-estimator-doc-link,\n",
              "a:visited.sk-estimator-doc-link {\n",
              "  float: right;\n",
              "  font-size: smaller;\n",
              "  line-height: 1em;\n",
              "  font-family: monospace;\n",
              "  background-color: var(--sklearn-color-background);\n",
              "  border-radius: 1em;\n",
              "  height: 1em;\n",
              "  width: 1em;\n",
              "  text-decoration: none !important;\n",
              "  margin-left: 0.5em;\n",
              "  text-align: center;\n",
              "  /* unfitted */\n",
              "  border: var(--sklearn-color-unfitted-level-1) 1pt solid;\n",
              "  color: var(--sklearn-color-unfitted-level-1);\n",
              "}\n",
              "\n",
              ".sk-estimator-doc-link.fitted,\n",
              "a:link.sk-estimator-doc-link.fitted,\n",
              "a:visited.sk-estimator-doc-link.fitted {\n",
              "  /* fitted */\n",
              "  border: var(--sklearn-color-fitted-level-1) 1pt solid;\n",
              "  color: var(--sklearn-color-fitted-level-1);\n",
              "}\n",
              "\n",
              "/* On hover */\n",
              "div.sk-estimator:hover .sk-estimator-doc-link:hover,\n",
              ".sk-estimator-doc-link:hover,\n",
              "div.sk-label-container:hover .sk-estimator-doc-link:hover,\n",
              ".sk-estimator-doc-link:hover {\n",
              "  /* unfitted */\n",
              "  background-color: var(--sklearn-color-unfitted-level-3);\n",
              "  color: var(--sklearn-color-background);\n",
              "  text-decoration: none;\n",
              "}\n",
              "\n",
              "div.sk-estimator.fitted:hover .sk-estimator-doc-link.fitted:hover,\n",
              ".sk-estimator-doc-link.fitted:hover,\n",
              "div.sk-label-container:hover .sk-estimator-doc-link.fitted:hover,\n",
              ".sk-estimator-doc-link.fitted:hover {\n",
              "  /* fitted */\n",
              "  background-color: var(--sklearn-color-fitted-level-3);\n",
              "  color: var(--sklearn-color-background);\n",
              "  text-decoration: none;\n",
              "}\n",
              "\n",
              "/* Span, style for the box shown on hovering the info icon */\n",
              ".sk-estimator-doc-link span {\n",
              "  display: none;\n",
              "  z-index: 9999;\n",
              "  position: relative;\n",
              "  font-weight: normal;\n",
              "  right: .2ex;\n",
              "  padding: .5ex;\n",
              "  margin: .5ex;\n",
              "  width: min-content;\n",
              "  min-width: 20ex;\n",
              "  max-width: 50ex;\n",
              "  color: var(--sklearn-color-text);\n",
              "  box-shadow: 2pt 2pt 4pt #999;\n",
              "  /* unfitted */\n",
              "  background: var(--sklearn-color-unfitted-level-0);\n",
              "  border: .5pt solid var(--sklearn-color-unfitted-level-3);\n",
              "}\n",
              "\n",
              ".sk-estimator-doc-link.fitted span {\n",
              "  /* fitted */\n",
              "  background: var(--sklearn-color-fitted-level-0);\n",
              "  border: var(--sklearn-color-fitted-level-3);\n",
              "}\n",
              "\n",
              ".sk-estimator-doc-link:hover span {\n",
              "  display: block;\n",
              "}\n",
              "\n",
              "/* \"?\"-specific style due to the `<a>` HTML tag */\n",
              "\n",
              "#sk-container-id-4 a.estimator_doc_link {\n",
              "  float: right;\n",
              "  font-size: 1rem;\n",
              "  line-height: 1em;\n",
              "  font-family: monospace;\n",
              "  background-color: var(--sklearn-color-background);\n",
              "  border-radius: 1rem;\n",
              "  height: 1rem;\n",
              "  width: 1rem;\n",
              "  text-decoration: none;\n",
              "  /* unfitted */\n",
              "  color: var(--sklearn-color-unfitted-level-1);\n",
              "  border: var(--sklearn-color-unfitted-level-1) 1pt solid;\n",
              "}\n",
              "\n",
              "#sk-container-id-4 a.estimator_doc_link.fitted {\n",
              "  /* fitted */\n",
              "  border: var(--sklearn-color-fitted-level-1) 1pt solid;\n",
              "  color: var(--sklearn-color-fitted-level-1);\n",
              "}\n",
              "\n",
              "/* On hover */\n",
              "#sk-container-id-4 a.estimator_doc_link:hover {\n",
              "  /* unfitted */\n",
              "  background-color: var(--sklearn-color-unfitted-level-3);\n",
              "  color: var(--sklearn-color-background);\n",
              "  text-decoration: none;\n",
              "}\n",
              "\n",
              "#sk-container-id-4 a.estimator_doc_link.fitted:hover {\n",
              "  /* fitted */\n",
              "  background-color: var(--sklearn-color-fitted-level-3);\n",
              "}\n",
              "</style><div id=\"sk-container-id-4\" class=\"sk-top-container\"><div class=\"sk-text-repr-fallback\"><pre>Pipeline(steps=[(&#x27;scaler&#x27;, StandardScaler()),\n",
              "                (&#x27;classifier&#x27;,\n",
              "                 LogisticRegression(max_iter=10000, n_jobs=-1, penalty=None,\n",
              "                                    random_state=0, verbose=1))])</pre><b>In a Jupyter environment, please rerun this cell to show the HTML representation or trust the notebook. <br />On GitHub, the HTML representation is unable to render, please try loading this page with nbviewer.org.</b></div><div class=\"sk-container\" hidden><div class=\"sk-item sk-dashed-wrapped\"><div class=\"sk-label-container\"><div class=\"sk-label fitted sk-toggleable\"><input class=\"sk-toggleable__control sk-hidden--visually\" id=\"sk-estimator-id-10\" type=\"checkbox\" ><label for=\"sk-estimator-id-10\" class=\"sk-toggleable__label fitted sk-toggleable__label-arrow\"><div><div>Pipeline</div></div><div><a class=\"sk-estimator-doc-link fitted\" rel=\"noreferrer\" target=\"_blank\" href=\"https://scikit-learn.org/1.6/modules/generated/sklearn.pipeline.Pipeline.html\">?<span>Documentation for Pipeline</span></a><span class=\"sk-estimator-doc-link fitted\">i<span>Fitted</span></span></div></label><div class=\"sk-toggleable__content fitted\"><pre>Pipeline(steps=[(&#x27;scaler&#x27;, StandardScaler()),\n",
              "                (&#x27;classifier&#x27;,\n",
              "                 LogisticRegression(max_iter=10000, n_jobs=-1, penalty=None,\n",
              "                                    random_state=0, verbose=1))])</pre></div> </div></div><div class=\"sk-serial\"><div class=\"sk-item\"><div class=\"sk-estimator fitted sk-toggleable\"><input class=\"sk-toggleable__control sk-hidden--visually\" id=\"sk-estimator-id-11\" type=\"checkbox\" ><label for=\"sk-estimator-id-11\" class=\"sk-toggleable__label fitted sk-toggleable__label-arrow\"><div><div>StandardScaler</div></div><div><a class=\"sk-estimator-doc-link fitted\" rel=\"noreferrer\" target=\"_blank\" href=\"https://scikit-learn.org/1.6/modules/generated/sklearn.preprocessing.StandardScaler.html\">?<span>Documentation for StandardScaler</span></a></div></label><div class=\"sk-toggleable__content fitted\"><pre>StandardScaler()</pre></div> </div></div><div class=\"sk-item\"><div class=\"sk-estimator fitted sk-toggleable\"><input class=\"sk-toggleable__control sk-hidden--visually\" id=\"sk-estimator-id-12\" type=\"checkbox\" ><label for=\"sk-estimator-id-12\" class=\"sk-toggleable__label fitted sk-toggleable__label-arrow\"><div><div>LogisticRegression</div></div><div><a class=\"sk-estimator-doc-link fitted\" rel=\"noreferrer\" target=\"_blank\" href=\"https://scikit-learn.org/1.6/modules/generated/sklearn.linear_model.LogisticRegression.html\">?<span>Documentation for LogisticRegression</span></a></div></label><div class=\"sk-toggleable__content fitted\"><pre>LogisticRegression(max_iter=10000, n_jobs=-1, penalty=None, random_state=0,\n",
              "                   verbose=1)</pre></div> </div></div></div></div></div></div>"
            ]
          },
          "metadata": {},
          "execution_count": 59
        }
      ]
    },
    {
      "cell_type": "markdown",
      "source": [
        "6. Compute the accuracy and AUC of your model on the test set."
      ],
      "metadata": {
        "id": "0FNliCyvxT19"
      }
    },
    {
      "cell_type": "code",
      "source": [
        "# Make predictions\n",
        "y_pred = pipeline.predict(X_test)\n",
        "y_prob = pipeline.predict_proba(X_test)[:, 1]  # Get probabilities for ROC AUC\n",
        "\n",
        "# Compute Accuracy\n",
        "accuracy = accuracy_score(y_test, y_pred)\n",
        "print(f\"\\nModel Accuracy: {accuracy:.4f}\")\n",
        "\n",
        "# Compute AUC Score\n",
        "auc_score = roc_auc_score(y_test, y_prob)\n",
        "print(f\"Model AUC Score: {auc_score:.4f}\")"
      ],
      "metadata": {
        "id": "Qo-ltgtixP8w",
        "colab": {
          "base_uri": "https://localhost:8080/"
        },
        "outputId": "1d7adff8-4bdd-4e19-90df-e9660df70ede"
      },
      "execution_count": 60,
      "outputs": [
        {
          "output_type": "stream",
          "name": "stdout",
          "text": [
            "\n",
            "Model Accuracy: 0.9714\n",
            "Model AUC Score: 0.9966\n"
          ]
        }
      ]
    },
    {
      "cell_type": "markdown",
      "source": [
        "7. Without estimates of the uncertainty of the performance metrics, it can be hard to make definitive conclusions about the performance of the model. Compute 95% confidence intervals for the accuracy and AUC using bootstrapping with 1000 replicates. Interpret your results."
      ],
      "metadata": {
        "id": "tFgizytIy143"
      }
    },
    {
      "cell_type": "code",
      "source": [
        "# Define bootstrap function\n",
        "def bootstrap_metric(metric_function, y_true, y_pred, y_prob=None, n_bootstrap=1000, alpha=0.95):\n",
        "    \"\"\"Computes bootstrap confidence intervals for a given metric.\"\"\"\n",
        "    bootstrapped_scores = []\n",
        "    rng = np.random.default_rng(seed=42)  # Ensure reproducibility\n",
        "\n",
        "    for _ in range(n_bootstrap):\n",
        "        # Sample with replacement\n",
        "        indices = rng.integers(0, len(y_true), len(y_true))\n",
        "        y_true_bootstrap = y_true[indices]\n",
        "        y_pred_bootstrap = y_pred[indices]\n",
        "\n",
        "        if y_prob is not None:\n",
        "            y_prob_bootstrap = y_prob[indices]\n",
        "            score = metric_function(y_true_bootstrap, y_prob_bootstrap)\n",
        "        else:\n",
        "            score = metric_function(y_true_bootstrap, y_pred_bootstrap)\n",
        "\n",
        "        bootstrapped_scores.append(score)\n",
        "\n",
        "    # Compute confidence intervals\n",
        "    lower_bound = np.percentile(bootstrapped_scores, (1 - alpha) / 2 * 100)\n",
        "    upper_bound = np.percentile(bootstrapped_scores, (1 + alpha) / 2 * 100)\n",
        "\n",
        "    return lower_bound, upper_bound\n",
        "\n",
        "# Compute confidence intervals\n",
        "accuracy_ci = bootstrap_metric(accuracy_score, y_test.to_numpy(), y_pred)\n",
        "auc_ci = bootstrap_metric(roc_auc_score, y_test.to_numpy(), y_pred, y_prob)\n",
        "\n",
        "# Print results\n",
        "print(f\"95% Confidence Interval for Accuracy: {accuracy_ci}\")\n",
        "print(f\"95% Confidence Interval for AUC: {auc_ci}\")"
      ],
      "metadata": {
        "id": "cr4Vaxsry2la",
        "colab": {
          "base_uri": "https://localhost:8080/"
        },
        "outputId": "3a3b7b29-2452-4002-97af-114eb16ac05f"
      },
      "execution_count": 61,
      "outputs": [
        {
          "output_type": "stream",
          "name": "stdout",
          "text": [
            "95% Confidence Interval for Accuracy: (0.9476190476190476, 0.9904761904761905)\n",
            "95% Confidence Interval for AUC: (0.9911541358850303, 0.9998036408378962)\n"
          ]
        }
      ]
    },
    {
      "cell_type": "code",
      "source": [],
      "metadata": {
        "id": "bYuUSnj4zRCz"
      },
      "execution_count": 61,
      "outputs": []
    },
    {
      "cell_type": "markdown",
      "source": [
        "The logistic regression model demonstrates strong performance, with a 95% confidence interval for accuracy ranging from 94.76% to 99.05%. This suggests that if we repeatedly trained the model on different samples, we would expect its accuracy to remain consistently high within this range. The narrow interval indicates that the model's accuracy is stable and reliable.\n",
        "\n",
        "The 95% confidence interval for the AUC is 0.9912 to 0.9998, showing that the model has an excellent ability to distinguish between malignant and benign tumors. The fact that this interval is very close to 1 confirms that the model almost perfectly separates the two classes. The small range of variation in both accuracy and AUC suggests that the model is consistently effective across different subsets of data.\n",
        "\n",
        "Overall, these results indicate that the model is highly accurate, well-calibrated, and capable of making reliable predictions with minimal performance fluctuation."
      ],
      "metadata": {
        "id": "Wxiy5SdXztLC"
      }
    },
    {
      "cell_type": "markdown",
      "source": [
        "8. Plot the distribution of the accuracy and AUC using histograms. Make sure to provide a title and axes labels for your plots. Add a red vertical line representing the mean of accuracy and AUC."
      ],
      "metadata": {
        "id": "C1Q_m8y2J-Nv"
      }
    },
    {
      "cell_type": "code",
      "source": [
        "# Generate bootstrapped accuracy and AUC scores\n",
        "n_bootstrap = 1000\n",
        "bootstrapped_accuracies = []\n",
        "bootstrapped_aucs = []\n",
        "\n",
        "rng = np.random.default_rng(seed=42)\n",
        "\n",
        "for _ in range(n_bootstrap):\n",
        "    indices = rng.integers(0, len(y_test), len(y_test))\n",
        "    y_true_bootstrap = y_test.to_numpy()[indices]\n",
        "    y_pred_bootstrap = y_pred[indices]\n",
        "    y_prob_bootstrap = y_prob[indices]\n",
        "\n",
        "    bootstrapped_accuracies.append(accuracy_score(y_true_bootstrap, y_pred_bootstrap))\n",
        "    bootstrapped_aucs.append(roc_auc_score(y_true_bootstrap, y_prob_bootstrap))\n",
        "\n",
        "# Compute mean values\n",
        "mean_accuracy = np.mean(bootstrapped_accuracies)\n",
        "mean_auc = np.mean(bootstrapped_aucs)\n",
        "\n",
        "# Plot accuracy distribution\n",
        "plt.figure(figsize=(12, 5))\n",
        "plt.subplot(1, 2, 1)\n",
        "plt.hist(bootstrapped_accuracies, bins=30, edgecolor=\"black\", alpha=0.7)\n",
        "plt.axvline(mean_accuracy, color='red', linestyle='dashed', linewidth=2)\n",
        "plt.xlabel(\"Accuracy\")\n",
        "plt.ylabel(\"Frequency\")\n",
        "plt.title(\"Distribution of Bootstrapped Accuracy\")\n",
        "plt.grid(axis='y', linestyle='--', alpha=0.6)\n",
        "\n",
        "# Plot AUC distribution\n",
        "plt.subplot(1, 2, 2)\n",
        "plt.hist(bootstrapped_aucs, bins=30, edgecolor=\"black\", alpha=0.7)\n",
        "plt.axvline(mean_auc, color='red', linestyle='dashed', linewidth=2)\n",
        "plt.xlabel(\"AUC Score\")\n",
        "plt.ylabel(\"Frequency\")\n",
        "plt.title(\"Distribution of Bootstrapped AUC\")\n",
        "plt.grid(axis='y', linestyle='--', alpha=0.6)\n",
        "\n",
        "# Show plots\n",
        "plt.tight_layout()\n",
        "plt.show()"
      ],
      "metadata": {
        "id": "H-jG2Z_sJ-rL",
        "colab": {
          "base_uri": "https://localhost:8080/",
          "height": 292
        },
        "outputId": "ed903fa8-7cc0-4a8c-84cc-c7aa71b902d3"
      },
      "execution_count": 62,
      "outputs": [
        {
          "output_type": "display_data",
          "data": {
            "text/plain": [
              "<Figure size 1200x500 with 2 Axes>"
            ],
            "image/png": "[encoded data removed]"
          },
          "metadata": {}
        }
      ]
    },
    {
      "cell_type": "code",
      "source": [],
      "metadata": {
        "id": "nQHgBLMjKLC8"
      },
      "execution_count": 62,
      "outputs": []
    },
    {
      "cell_type": "markdown",
      "source": [
        "9. Compute 95% confidence intervals for the accuracy and AUC using repeated cross-validation. Use 10 splits and 100 repetitions with a random state of 0. Compare your results to what you obtained using bootstrapping. Which method provides better confidence intervals in this case?"
      ],
      "metadata": {
        "id": "HoP1pP6l5L4h"
      }
    },
    {
      "cell_type": "code",
      "source": [
        "from sklearn.model_selection import RepeatedStratifiedKFold, cross_val_score\n",
        "\n",
        "# Define repeated cross-validation strategy\n",
        "cv = RepeatedStratifiedKFold(n_splits=10, n_repeats=100, random_state=0)\n",
        "\n",
        "# Compute accuracy and AUC scores using cross-validation\n",
        "accuracy_scores = cross_val_score(pipeline, X, y, cv=cv, scoring='accuracy', n_jobs=-1)\n",
        "auc_scores = cross_val_score(pipeline, X, y, cv=cv, scoring='roc_auc', n_jobs=-1)\n",
        "\n",
        "# Compute 95% confidence intervals\n",
        "accuracy_ci = (np.percentile(accuracy_scores, 2.5), np.percentile(accuracy_scores, 97.5))\n",
        "auc_ci = (np.percentile(auc_scores, 2.5), np.percentile(auc_scores, 97.5))\n",
        "\n",
        "# Print results\n",
        "print(f\"95% Confidence Interval for Accuracy (Cross-Validation): {accuracy_ci}\")\n",
        "print(f\"95% Confidence Interval for AUC (Cross-Validation): {auc_ci}\")"
      ],
      "metadata": {
        "id": "uSeWUQTZ5MDe",
        "colab": {
          "base_uri": "https://localhost:8080/"
        },
        "outputId": "472e30be-78e3-4ded-e2bd-da742c70d4a7"
      },
      "execution_count": 64,
      "outputs": [
        {
          "output_type": "stream",
          "name": "stdout",
          "text": [
            "95% Confidence Interval for Accuracy (Cross-Validation): (0.9142857142857143, 1.0)\n",
            "95% Confidence Interval for AUC (Cross-Validation): (0.9791550925925926, 1.0)\n"
          ]
        }
      ]
    },
    {
      "cell_type": "code",
      "source": [],
      "metadata": {
        "id": "oCdmGJYM5fjm"
      },
      "execution_count": null,
      "outputs": []
    },
    {
      "cell_type": "markdown",
      "source": [
        "In this case, cross-validation provides better confidence intervals as it systematically evaluates the model's performance across many folds and repetitions, resulting in consistent and reliable estimates. Bootstrapping is still valuable, especially for small datasets or when assessing uncertainty for specific predictions, but the cross-validation method is preferred for overall performance assessment."
      ],
      "metadata": {
        "id": "-z893LWUjNW_"
      }
    },
    {
      "cell_type": "markdown",
      "source": [
        "10. Using your cross-validation results, compute a 95% confidence interval for each coefficient in the model. Which feature(s) might you remove based on this?"
      ],
      "metadata": {
        "id": "XqvhSwBM8riL"
      }
    },
    {
      "cell_type": "code",
      "source": [
        "# Access logistic regression coefficients from the trained pipeline\n",
        "log_reg = pipeline.named_steps['classifier']  # LogisticRegression model\n",
        "scaler = pipeline.named_steps['scaler']       # StandardScaler for scaling\n",
        "\n",
        "# Scale the training data to get consistent coefficients\n",
        "X_train_scaled = scaler.transform(X_train)\n",
        "\n",
        "# Perform bootstrapping for coefficients\n",
        "n_bootstrap = 1000\n",
        "coefficients = []\n",
        "\n",
        "rng = np.random.default_rng(seed=42)\n",
        "\n",
        "for _ in range(n_bootstrap):\n",
        "    # Resample with replacement\n",
        "    indices = rng.integers(0, len(X_train_scaled), len(X_train_scaled))\n",
        "    X_resampled = X_train_scaled[indices]\n",
        "    y_resampled = y_train.to_numpy()[indices]\n",
        "\n",
        "    # Fit logistic regression on the resampled data\n",
        "    log_reg.fit(X_resampled, y_resampled)\n",
        "    coefficients.append(log_reg.coef_[0])\n",
        "\n",
        "# Convert bootstrapped coefficients to a NumPy array\n",
        "coefficients = np.array(coefficients)\n",
        "\n",
        "# Compute confidence intervals for each feature\n",
        "ci_lower = np.percentile(coefficients, 2.5, axis=0)\n",
        "ci_upper = np.percentile(coefficients, 97.5, axis=0)\n",
        "\n",
        "# Display results\n",
        "for idx, feature_name in enumerate(X.columns):\n",
        "    print(f\"{feature_name}: 95% CI = ({ci_lower[idx]:.4f}, {ci_upper[idx]:.4f})\")"
      ],
      "metadata": {
        "id": "ULcmyhK48t9v"
      },
      "execution_count": null,
      "outputs": []
    },
    {
      "cell_type": "markdown",
      "source": [
        "Based on the 95% confidence intervals for the logistic regression coefficients, several features may be considered for removal as their intervals include zero, indicating they may not have a statistically significant contribution to the model. These features include `Cell.size`, `Cell.shape`, `Marg.adhesion`, `Epith.c.size`, `Bl.cromatin`, `Normal.nucleoli`, `Mitoses`, and `Age`. In contrast, features such as `Cl.thickness` and `Bare.nuclei` have confidence intervals entirely above zero, suggesting they are strong predictors of the outcome and should be retained. Removing the non-significant features could simplify the model without substantially affecting its performance while improving its interpretability."
      ],
      "metadata": {
        "id": "PDhYQMGNG_kt"
      }
    },
    {
      "cell_type": "markdown",
      "source": [
        "11. Fit your logistic regression model like before but remove the feature(s) you indentified in Q10. Plot the ROC curve of the model over the test set and annotate it with the AUC of the model."
      ],
      "metadata": {
        "id": "6ZvnP0Wc81Og"
      }
    },
    {
      "cell_type": "code",
      "source": [
        "# Remove non-significant features identified in Q10\n",
        "significant_features = ['Cl.thickness', 'Bare.nuclei']  # Features with confidence intervals entirely above zero\n",
        "X_train_reduced = X_train[significant_features]\n",
        "X_test_reduced = X_test[significant_features]\n",
        "\n",
        "# Refit the logistic regression model with the reduced feature set\n",
        "pipeline_reduced = Pipeline([\n",
        "    ('scaler', StandardScaler()),  # Standardize predictors\n",
        "    ('classifier', LogisticRegression(\n",
        "        solver='lbfgs',     # Optimization algorithm\n",
        "        penalty=None,       # No regularization\n",
        "        max_iter=10000,     # Ensure convergence\n",
        "        verbose=1,          # Display training progress\n",
        "        random_state=0,     # Reproducibility\n",
        "        n_jobs=-1           # Use all available CPU cores\n",
        "    ))\n",
        "])\n",
        "\n",
        "pipeline_reduced.fit(X_train_reduced, y_train)\n",
        "\n",
        "# Predict probabilities for the test set\n",
        "y_prob_reduced = pipeline_reduced.predict_proba(X_test_reduced)[:, 1]\n",
        "\n",
        "# Compute ROC curve and AUC\n",
        "fpr, tpr, _ = roc_curve(y_test, y_prob_reduced)\n",
        "auc_score_reduced = roc_auc_score(y_test, y_prob_reduced)\n",
        "\n",
        "# Plot the ROC curve\n",
        "plt.figure(figsize=(8, 6))\n",
        "plt.plot(fpr, tpr, label=f\"AUC = {auc_score_reduced:.4f}\", color='blue')\n",
        "plt.plot([0, 1], [0, 1], linestyle='--', color='gray', label=\"Random Chance\")\n",
        "plt.xlabel(\"False Positive Rate\")\n",
        "plt.ylabel(\"True Positive Rate\")\n",
        "plt.title(\"ROC Curve for Logistic Regression with Reduced Features\")\n",
        "plt.legend(loc=\"lower right\")\n",
        "plt.grid(alpha=0.3)\n",
        "plt.show()"
      ],
      "metadata": {
        "id": "h506WTyw8xIq"
      },
      "execution_count": null,
      "outputs": []
    },
    {
      "cell_type": "code",
      "source": [],
      "metadata": {
        "id": "8w5t968Fwnus"
      },
      "execution_count": null,
      "outputs": []
    },
    {
      "cell_type": "markdown",
      "source": [
        "12. Calculate the uncertainty for the prediction of the first testing patient.  Plot a histogram of the different predictions. Give the plot a title and axes labels. Add a red vertical line representing the mean of the predictions.\n",
        "\n",
        "Hint: If you need to stack a list of arrays, you can use [np.hstack(list)](https://numpy.org/doc/stable/reference/generated/numpy.hstack.html)."
      ],
      "metadata": {
        "id": "_FHVaoRi80ZK"
      }
    },
    {
      "cell_type": "code",
      "source": [
        "# Bootstrapping predictions for the first testing patient\n",
        "n_bootstrap = 1000\n",
        "first_patient_preds = []\n",
        "\n",
        "rng = np.random.default_rng(seed=42)\n",
        "\n",
        "# Convert Polars DataFrame to NumPy for indexing purposes\n",
        "X_test_reduced_np = X_test_reduced.to_numpy()\n",
        "y_test_np = y_test.to_numpy()\n",
        "\n",
        "for _ in range(n_bootstrap):\n",
        "    # Resample with replacement\n",
        "    indices = rng.integers(0, len(X_test_reduced_np), len(X_test_reduced_np))\n",
        "    X_resampled = X_test_reduced_np[indices]\n",
        "    y_resampled = y_test_np[indices]\n",
        "\n",
        "    # Refit logistic regression model\n",
        "    pipeline_reduced.fit(X_train_reduced, y_train)\n",
        "\n",
        "    # Predict probability for the first testing patient\n",
        "    first_patient_prob = pipeline_reduced.predict_proba(X_test_reduced_np[0].reshape(1, -1))[0, 1]\n",
        "    first_patient_preds.append(first_patient_prob)\n",
        "\n",
        "# Convert to NumPy array\n",
        "first_patient_preds = np.array(first_patient_preds)\n",
        "\n",
        "# Calculate mean prediction\n",
        "mean_prediction = np.mean(first_patient_preds)\n",
        "\n",
        "# Plot histogram\n",
        "plt.figure(figsize=(8, 6))\n",
        "plt.hist(first_patient_preds, bins=30, edgecolor=\"black\", alpha=0.7)\n",
        "plt.axvline(mean_prediction, color='red', linestyle='dashed', linewidth=2, label=f\"Mean Prediction = {mean_prediction:.4f}\")\n",
        "plt.xlabel(\"Predicted Probability\")\n",
        "plt.ylabel(\"Frequency\")\n",
        "plt.title(\"Bootstrap Predictions for First Testing Patient\")\n",
        "plt.legend()\n",
        "plt.grid(axis='y', linestyle='--', alpha=0.6)\n",
        "plt.show()"
      ],
      "metadata": {
        "id": "vbyP6_ssNOh4"
      },
      "execution_count": null,
      "outputs": []
    },
    {
      "cell_type": "code",
      "source": [],
      "metadata": {
        "id": "uvaPzSUhO98k"
      },
      "execution_count": null,
      "outputs": []
    }
  ],
  "metadata": {
    "colab": {
      "provenance": [],
      "include_colab_link": true
    },
    "kernelspec": {
      "display_name": "ml",
      "language": "python",
      "name": "python3"
    },
    "language_info": {
      "codemirror_mode": {
        "name": "ipython",
        "version": 3
      },
      "file_extension": ".py",
      "mimetype": "text/x-python",
      "name": "python",
      "nbconvert_exporter": "python",
      "pygments_lexer": "ipython3",
      "version": "3.11.5"
    }
  },
  "nbformat": 4,
  "nbformat_minor": 0
}