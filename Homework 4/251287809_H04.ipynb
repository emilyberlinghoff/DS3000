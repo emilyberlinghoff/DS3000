{
  "cells": [
    {
      "cell_type": "markdown",
      "metadata": {
        "id": "view-in-github",
        "colab_type": "text"
      },
      "source": [
        "<a href=\"https://colab.research.google.com/github/emilyberlinghoff/DS3000/blob/main/Homework%204/251287809_H04.ipynb\" target=\"_parent\"><img src=\"https://colab.research.google.com/assets/colab-badge.svg\" alt=\"Open In Colab\"/></a>"
      ]
    },
    {
      "cell_type": "markdown",
      "metadata": {
        "id": "twKpLeRhDeyQ"
      },
      "source": [
        "# Homework 4\n",
        "\n",
        "## Follow These Steps Before Submitting\n",
        "Once you are finished, ensure to complete the following steps.\n",
        "\n",
        "1.  Restart your kernel by clicking 'Kernel' > 'Restart & Run All'.\n",
        "\n",
        "2.  Fix any errors which result from this.\n",
        "\n",
        "3.  Repeat steps 1. and 2. until your notebook runs without errors.\n",
        "\n",
        "4.  Submit your completed notebook to OWL by the deadline.\n"
      ]
    },
    {
      "cell_type": "markdown",
      "source": [
        "# 1. Wisconsin Breast Cancer Dataset\n",
        "\n",
        "In this assignment, you will use a modified version of the well-known Wisconsin Breast Cancer dataset. We want to predict if a patient has a malignant or benign tumour. The features in the dataset are described below:\n",
        "\n",
        "\n",
        "**Cl.thickness**:\tClump Thickness\n",
        "\n",
        "**Cell.size**:\tUniformity of Cell Size\n",
        "\n",
        "**Cell.shape**:\tUniformity of Cell Shape\n",
        "\n",
        "**Marg.adhesion**:\tMarginal Adhesion\n",
        "\n",
        "**Epith.c.size**:\tSingle Epithelial Cell Size\n",
        "\n",
        "**Bare.nuclei**:\tBare Nuclei\n",
        "\n",
        "**Bl.cromatin**:\tBland Chromatin\n",
        "\n",
        "**Normal.nucleoli**:\tNormal Nucleoli\n",
        "\n",
        "**Mitoses**:\tMitoses\n",
        "\n",
        "**Age**: Age\n",
        "\n",
        "**Class**: 1 if malignant, 0 if benign"
      ],
      "metadata": {
        "id": "waD8EZwFMt1U"
      }
    },
    {
      "cell_type": "code",
      "execution_count": null,
      "metadata": {
        "id": "zJdm6Uxlq-kc"
      },
      "outputs": [],
      "source": [
        "# Package import\n",
        "import numpy as np\n",
        "\n",
        "# Scikit-learn imports\n",
        "from sklearn.model_selection import train_test_split, cross_validate, RepeatedKFold\n",
        "from sklearn.pipeline import Pipeline\n",
        "from sklearn.linear_model import LogisticRegression\n",
        "from sklearn.metrics import confusion_matrix, roc_curve, roc_auc_score, classification_report, accuracy_score\n",
        "from sklearn.preprocessing import StandardScaler\n",
        "from sklearn.compose import ColumnTransformer\n",
        "\n",
        "# Data management imports\n",
        "import pandas as pd\n",
        "import polars as pl\n",
        "\n",
        "# Plotting imports\n",
        "import matplotlib.pyplot as plt\n",
        "import seaborn as sns\n",
        "%matplotlib inline"
      ]
    },
    {
      "cell_type": "code",
      "source": [
        "# Uncomment the line below if you are using Google colab\n",
        "# !gdown https://drive.google.com/uc?id=12Y-PdpmPLInGGBvFAn_G3eCfXrRETvuF"
      ],
      "metadata": {
        "id": "nKQxNU4X6i3I"
      },
      "execution_count": null,
      "outputs": []
    },
    {
      "cell_type": "markdown",
      "metadata": {
        "id": "tTKdVYZLGm-b"
      },
      "source": [
        "1. Read the CSV file using Polars and store it. Use \"null_values=['NA']\". Show summary statistics for the dataset. What is the baseline accuracy for a model?"
      ]
    },
    {
      "cell_type": "code",
      "execution_count": null,
      "metadata": {
        "id": "Wj-Yl2t5JW0Y"
      },
      "outputs": [],
      "source": []
    },
    {
      "cell_type": "markdown",
      "source": [],
      "metadata": {
        "id": "P6oA1stMv5Fj"
      }
    },
    {
      "cell_type": "markdown",
      "source": [
        "2. Assume that we are only interested in studying people aged 100 or less. Remove anyone with ages larger than that. (Note that this slightly changes your baseline accuracy.)"
      ],
      "metadata": {
        "id": "1tw6pJdOcY_k"
      }
    },
    {
      "cell_type": "code",
      "source": [],
      "metadata": {
        "id": "CwASQWPl87ye"
      },
      "execution_count": null,
      "outputs": []
    },
    {
      "cell_type": "markdown",
      "source": [
        "3. Replace the missing values in the dataset using the median of the corresponding predictor."
      ],
      "metadata": {
        "id": "4rSrLV3hnrek"
      }
    },
    {
      "cell_type": "code",
      "source": [],
      "metadata": {
        "id": "htFdyZepn1uB"
      },
      "execution_count": null,
      "outputs": []
    },
    {
      "cell_type": "markdown",
      "source": [
        "4. Create a training and testing dataset. Reserve 30% of the data for testing and stratify the split based on the outcome. Use a random state of 0."
      ],
      "metadata": {
        "id": "GR9-bjxqcZ_V"
      }
    },
    {
      "cell_type": "code",
      "source": [],
      "metadata": {
        "id": "uKXVS9DWcaPy"
      },
      "execution_count": null,
      "outputs": []
    },
    {
      "cell_type": "markdown",
      "source": [
        "5. Using all potential predictors, train a logistic regression model to predict if a patient has the condition. Remember to standardize the predictors. Use the following arguments: solver='lbfgs', penalty=None, max_iter=10000, verbose=1, random_state=0, and n_jobs=-1."
      ],
      "metadata": {
        "id": "ZD6jBNP7wd_d"
      }
    },
    {
      "cell_type": "code",
      "source": [],
      "metadata": {
        "id": "SVgbr2N1wt97"
      },
      "execution_count": null,
      "outputs": []
    },
    {
      "cell_type": "markdown",
      "source": [
        "6. Compute the accuracy and AUC of your model on the test set."
      ],
      "metadata": {
        "id": "0FNliCyvxT19"
      }
    },
    {
      "cell_type": "code",
      "source": [],
      "metadata": {
        "id": "Qo-ltgtixP8w"
      },
      "execution_count": null,
      "outputs": []
    },
    {
      "cell_type": "markdown",
      "source": [
        "7. Without estimates of the uncertainty of the performance metrics, it can be hard to make definitive conclusions about the performance of the model. Compute 95% confidence intervals for the accuracy and AUC using bootstrapping with 1000 replicates. Interpret your results."
      ],
      "metadata": {
        "id": "tFgizytIy143"
      }
    },
    {
      "cell_type": "code",
      "source": [],
      "metadata": {
        "id": "cr4Vaxsry2la"
      },
      "execution_count": null,
      "outputs": []
    },
    {
      "cell_type": "code",
      "source": [],
      "metadata": {
        "id": "bYuUSnj4zRCz"
      },
      "execution_count": null,
      "outputs": []
    },
    {
      "cell_type": "markdown",
      "source": [],
      "metadata": {
        "id": "Wxiy5SdXztLC"
      }
    },
    {
      "cell_type": "markdown",
      "source": [
        "8. Plot the distribution of the accuracy and AUC using histograms. Make sure to provide a title and axes labels for your plots. Add a red vertical line representing the mean of accuracy and AUC."
      ],
      "metadata": {
        "id": "C1Q_m8y2J-Nv"
      }
    },
    {
      "cell_type": "code",
      "source": [],
      "metadata": {
        "id": "H-jG2Z_sJ-rL"
      },
      "execution_count": null,
      "outputs": []
    },
    {
      "cell_type": "code",
      "source": [],
      "metadata": {
        "id": "nQHgBLMjKLC8"
      },
      "execution_count": null,
      "outputs": []
    },
    {
      "cell_type": "markdown",
      "source": [
        "9. Compute 95% confidence intervals for the accuracy and AUC using repeated cross-validation. Use 10 splits and 100 repetitions with a random state of 0. Compare your results to what you obtained using bootstrapping. Which method provides better confidence intervals in this case?"
      ],
      "metadata": {
        "id": "HoP1pP6l5L4h"
      }
    },
    {
      "cell_type": "code",
      "source": [],
      "metadata": {
        "id": "uSeWUQTZ5MDe"
      },
      "execution_count": null,
      "outputs": []
    },
    {
      "cell_type": "code",
      "source": [],
      "metadata": {
        "id": "oCdmGJYM5fjm"
      },
      "execution_count": null,
      "outputs": []
    },
    {
      "cell_type": "markdown",
      "source": [],
      "metadata": {
        "id": "-z893LWUjNW_"
      }
    },
    {
      "cell_type": "markdown",
      "source": [
        "10. Using your cross-validation results, compute a 95% confidence interval for each coefficient in the model. Which feature(s) might you remove based on this?"
      ],
      "metadata": {
        "id": "XqvhSwBM8riL"
      }
    },
    {
      "cell_type": "code",
      "source": [],
      "metadata": {
        "id": "ULcmyhK48t9v"
      },
      "execution_count": null,
      "outputs": []
    },
    {
      "cell_type": "markdown",
      "source": [],
      "metadata": {
        "id": "PDhYQMGNG_kt"
      }
    },
    {
      "cell_type": "markdown",
      "source": [
        "11. Fit your logistic regression model like before but remove the feature(s) you indentified in Q10. Plot the ROC curve of the model over the test set and annotate it with the AUC of the model."
      ],
      "metadata": {
        "id": "6ZvnP0Wc81Og"
      }
    },
    {
      "cell_type": "code",
      "source": [],
      "metadata": {
        "id": "h506WTyw8xIq"
      },
      "execution_count": null,
      "outputs": []
    },
    {
      "cell_type": "code",
      "source": [],
      "metadata": {
        "id": "8w5t968Fwnus"
      },
      "execution_count": null,
      "outputs": []
    },
    {
      "cell_type": "markdown",
      "source": [
        "12. Calculate the uncertainty for the prediction of the first testing patient.  Plot a histogram of the different predictions. Give the plot a title and axes labels. Add a red vertical line representing the mean of the predictions.\n",
        "\n",
        "Hint: If you need to stack a list of arrays, you can use [np.hstack(list)](https://numpy.org/doc/stable/reference/generated/numpy.hstack.html)."
      ],
      "metadata": {
        "id": "_FHVaoRi80ZK"
      }
    },
    {
      "cell_type": "code",
      "source": [],
      "metadata": {
        "id": "vbyP6_ssNOh4"
      },
      "execution_count": null,
      "outputs": []
    },
    {
      "cell_type": "code",
      "source": [],
      "metadata": {
        "id": "uvaPzSUhO98k"
      },
      "execution_count": null,
      "outputs": []
    }
  ],
  "metadata": {
    "colab": {
      "provenance": [],
      "include_colab_link": true
    },
    "kernelspec": {
      "display_name": "ml",
      "language": "python",
      "name": "python3"
    },
    "language_info": {
      "codemirror_mode": {
        "name": "ipython",
        "version": 3
      },
      "file_extension": ".py",
      "mimetype": "text/x-python",
      "name": "python",
      "nbconvert_exporter": "python",
      "pygments_lexer": "ipython3",
      "version": "3.11.5"
    }
  },
  "nbformat": 4,
  "nbformat_minor": 0
}