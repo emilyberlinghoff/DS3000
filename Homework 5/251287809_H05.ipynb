{
  "nbformat": 4,
  "nbformat_minor": 0,
  "metadata": {
    "colab": {
      "provenance": [],
      "collapsed_sections": [
        "LJCGYX0iRh9j",
        "UMaaQ19-Xd1d",
        "Yv9TQIWqoWpY",
        "61faU0aZzRqk",
        "766tNRJzbBFA",
        "mxDVkMQ-hEem",
        "6MKT3NRarkz5",
        "ACAsAnUdLB_o"
      ],
      "include_colab_link": true
    },
    "kernelspec": {
      "name": "python3",
      "display_name": "Python 3"
    },
    "language_info": {
      "name": "python"
    }
  },
  "cells": [
    {
      "cell_type": "markdown",
      "metadata": {
        "id": "view-in-github",
        "colab_type": "text"
      },
      "source": [
        "<a href=\"https://colab.research.google.com/github/emilyberlinghoff/DS3000/blob/main/Homework%205/251287809_H05.ipynb\" target=\"_parent\"><img src=\"https://colab.research.google.com/assets/colab-badge.svg\" alt=\"Open In Colab\"/></a>"
      ]
    },
    {
      "cell_type": "markdown",
      "source": [
        "# Assignment 5: Logistic Regression with Variable Selection\n",
        "\n",
        "## Follow These Steps Before Submitting\n",
        "Once you are finished, ensure to complete the following steps.\n",
        "\n",
        "1.  Restart your kernel by clicking **'Runtime' > 'Restart session and run all'**.\n",
        "\n",
        "2.  Fix any errors which result from this.\n",
        "\n",
        "3.  Repeat steps 1. and 2. until your notebook runs without errors.\n",
        "\n",
        "4.  Submit your completed notebook to OWL by the deadline."
      ],
      "metadata": {
        "id": "m9l0b9ZnSgPd"
      }
    },
    {
      "cell_type": "markdown",
      "source": [
        "# Dataset\n",
        "\n",
        "In this assignment, you will work on a dataset taken from USGS(U.S Geological Survey). This dataset contains earthquake data with a magnitude of 4.5+ and an \"alert\" warning level, recorded between 1976 and 2025. Below is an explanation of the columns included in the dataset:\n",
        "\n",
        "- **`id`**: A unique identifier for the earthquake event.\n",
        "- **`time`**: The timestamp indicating when the earthquake or event occurred, including the date and time in UTC format.\n",
        "- **`latitude`**: The geographical latitude of the earthquake's epicenter, measured in degrees.\n",
        "- **`longitude`**: The geographical longitude of the earthquake's epicenter, measured in degrees.\n",
        "- **`depth`**: The depth at which the earthquake occurred, typically measured in kilometers below the Earth's surface.\n",
        "- **`mag`**: The magnitude of the earthquake, representing the energy released by the seismic event. In this case, a value of 8.6 indicates a very large earthquake.\n",
        "- **`gap`**: The azimuthal gap, which refers to the angular distance between the two most distant seismic stations that recorded the earthquake. A smaller gap typically indicates better global coverage.\n",
        "- **`dmin`**: The minimum distance between the earthquake's epicenter and the nearest seismic station, measured in degrees.\n",
        "- **`rms`**: The root mean square of the amplitude of the seismic waves, representing the strength of the seismic signal.\n",
        "- **`horizontalError`**: The error associated with the latitude and longitude coordinates of the epicenter, typically measured in kilometers.\n",
        "- **`depthError`**: The error associated with the depth measurement of the earthquake, typically measured in kilometers.\n",
        "- **`magError`**: The error associated with the magnitude measurement of the earthquake, representing the uncertainty in the reported magnitude.\n",
        "- **`magNst`**: The number of stations that contributed to the magnitude estimation.\n",
        "- **`Alert` (target)** The alert level issued for the earthquake, whether 'Severe' or 'Non-Severe'.\n",
        "\n",
        "The goal is to train a model for predicting the **`Alert`** which indicates the severity of the earthquake.\n",
        "\n"
      ],
      "metadata": {
        "id": "LJCGYX0iRh9j"
      }
    },
    {
      "cell_type": "code",
      "source": [
        "# Standard imports\n",
        "import numpy as np\n",
        "from itertools import chain, combinations\n",
        "\n",
        "# Data manipulation\n",
        "import pandas as pd\n",
        "import polars as pl\n",
        "\n",
        "# Sklearn imports\n",
        "from sklearn.model_selection import train_test_split, cross_val_score\n",
        "from sklearn.preprocessing import StandardScaler\n",
        "from sklearn.linear_model import LogisticRegression, LogisticRegressionCV\n",
        "from sklearn.metrics import accuracy_score\n",
        "from sklearn.metrics import roc_curve, roc_auc_score\n",
        "from sklearn.pipeline import Pipeline\n",
        "from sklearn.feature_selection import SequentialFeatureSelector\n",
        "\n",
        "# Plotting packages\n",
        "import matplotlib.pyplot as plt\n",
        "import seaborn as sns\n",
        "%matplotlib inline"
      ],
      "metadata": {
        "id": "zoXM0sRHQne_"
      },
      "execution_count": 1,
      "outputs": []
    },
    {
      "cell_type": "code",
      "source": [
        "# Download the data\n",
        "!gdown https://drive.google.com/uc?id=1yL84FMQrfHC_cQsa_V3KTcRAJS0k4DhY"
      ],
      "metadata": {
        "id": "dIBHhqMZUx3R",
        "colab": {
          "base_uri": "https://localhost:8080/"
        },
        "outputId": "3c42ea02-3a51-446b-d94b-b0aec596fcca"
      },
      "execution_count": 2,
      "outputs": [
        {
          "output_type": "stream",
          "name": "stdout",
          "text": [
            "Downloading...\n",
            "From: https://drive.google.com/uc?id=1yL84FMQrfHC_cQsa_V3KTcRAJS0k4DhY\n",
            "To: /content/earthquakes.parquet\n",
            "\r  0% 0.00/437k [00:00<?, ?B/s]\r100% 437k/437k [00:00<00:00, 111MB/s]\n"
          ]
        }
      ]
    },
    {
      "cell_type": "markdown",
      "source": [
        "# Part 1: Data Preprocessing"
      ],
      "metadata": {
        "id": "l8G0CQ-bXMMM"
      }
    },
    {
      "cell_type": "markdown",
      "source": [
        "## Question 1.1: Load data\n",
        "\n",
        "(1) Read the **`earthquakes.parquet`** file as a **`polars.DataFrame`** and show its descriptive statistics.\n",
        "\n",
        "(2) Drop column **`id`** and **`time`** and display the first 5 rows of the dataframe.\n",
        "\n",
        "Since **`id`** is unique for each earthquake event that does not contain any predictive information and **`time`** is not directly informative for predicting earthquake severity unless you extract relevant features such as time of day, seasonality, etc."
      ],
      "metadata": {
        "id": "UMaaQ19-Xd1d"
      }
    },
    {
      "cell_type": "code",
      "source": [
        "df = pl.read_parquet(\"earthquakes.parquet\")\n",
        "print(df.describe())"
      ],
      "metadata": {
        "id": "B6_VKNYOWLnI",
        "colab": {
          "base_uri": "https://localhost:8080/"
        },
        "outputId": "d94a541d-6bf7-47f2-98f6-34fe891cad70"
      },
      "execution_count": 3,
      "outputs": [
        {
          "output_type": "stream",
          "name": "stdout",
          "text": [
            "shape: (9, 15)\n",
            "┌───────────┬───────────┬───────────┬───────────┬───┬───────────┬──────────┬───────────┬───────────┐\n",
            "│ statistic ┆ id        ┆ time      ┆ latitude  ┆ … ┆ depthErro ┆ magError ┆ magNst    ┆ Alert     │\n",
            "│ ---       ┆ ---       ┆ ---       ┆ ---       ┆   ┆ r         ┆ ---      ┆ ---       ┆ ---       │\n",
            "│ str       ┆ str       ┆ str       ┆ f64       ┆   ┆ ---       ┆ f64      ┆ f64       ┆ str       │\n",
            "│           ┆           ┆           ┆           ┆   ┆ f64       ┆          ┆           ┆           │\n",
            "╞═══════════╪═══════════╪═══════════╪═══════════╪═══╪═══════════╪══════════╪═══════════╪═══════════╡\n",
            "│ count     ┆ 7699      ┆ 7699      ┆ 7699.0    ┆ … ┆ 7490.0    ┆ 5485.0   ┆ 5632.0    ┆ 7699      │\n",
            "│ null_coun ┆ 0         ┆ 0         ┆ 0.0       ┆ … ┆ 209.0     ┆ 2214.0   ┆ 2067.0    ┆ 0         │\n",
            "│ t         ┆           ┆           ┆           ┆   ┆           ┆          ┆           ┆           │\n",
            "│ mean      ┆ null      ┆ null      ┆ 0.999312  ┆ … ┆ 2.571899  ┆ 0.06792  ┆ 46.712713 ┆ null      │\n",
            "│ std       ┆ null      ┆ null      ┆ 32.359887 ┆ … ┆ 3.119655  ┆ 0.057433 ┆ 69.220344 ┆ null      │\n",
            "│ min       ┆ ak012fko1 ┆ 1976-03-2 ┆ -69.7739  ┆ … ┆ 0.0       ┆ 0.0      ┆ 0.0       ┆ Non-Sever │\n",
            "│           ┆ 6th       ┆ 5 00:41:2 ┆           ┆   ┆           ┆          ┆           ┆ e         │\n",
            "│           ┆           ┆ 0.500000+ ┆           ┆   ┆           ┆          ┆           ┆           │\n",
            "│           ┆           ┆ 00:…      ┆           ┆   ┆           ┆          ┆           ┆           │\n",
            "│ 25%       ┆ null      ┆ null      ┆ -21.7389  ┆ … ┆ 1.7       ┆ 0.047    ┆ 18.0      ┆ null      │\n",
            "│ 50%       ┆ null      ┆ null      ┆ -3.5114   ┆ … ┆ 1.8       ┆ 0.059    ┆ 29.0      ┆ null      │\n",
            "│ 75%       ┆ null      ┆ null      ┆ 28.2943   ┆ … ┆ 2.9       ┆ 0.073    ┆ 47.0      ┆ null      │\n",
            "│ max       ┆ uw6156212 ┆ 2024-12-2 ┆ 85.729    ┆ … ┆ 31.95     ┆ 1.642    ┆ 954.0     ┆ Severe    │\n",
            "│           ┆ 6         ┆ 3 06:00:5 ┆           ┆   ┆           ┆          ┆           ┆           │\n",
            "│           ┆           ┆ 9.074000+ ┆           ┆   ┆           ┆          ┆           ┆           │\n",
            "│           ┆           ┆ 00:…      ┆           ┆   ┆           ┆          ┆           ┆           │\n",
            "└───────────┴───────────┴───────────┴───────────┴───┴───────────┴──────────┴───────────┴───────────┘\n"
          ]
        }
      ]
    },
    {
      "cell_type": "code",
      "source": [
        "df = df.drop([\"id\", \"time\"])\n",
        "print(df.head(5))"
      ],
      "metadata": {
        "id": "6VQganpcnIEZ",
        "colab": {
          "base_uri": "https://localhost:8080/"
        },
        "outputId": "34018059-7570-491c-e3b1-ac5db555a7f8"
      },
      "execution_count": 4,
      "outputs": [
        {
          "output_type": "stream",
          "name": "stdout",
          "text": [
            "shape: (5, 12)\n",
            "┌───────────┬─────────────┬────────┬──────┬───┬────────────┬──────────┬────────┬────────────┐\n",
            "│ latitude  ┆ longitude   ┆ depth  ┆ mag  ┆ … ┆ depthError ┆ magError ┆ magNst ┆ Alert      │\n",
            "│ ---       ┆ ---         ┆ ---    ┆ ---  ┆   ┆ ---        ┆ ---      ┆ ---    ┆ ---        │\n",
            "│ f64       ┆ f64         ┆ f64    ┆ f64  ┆   ┆ f64        ┆ f64      ┆ f64    ┆ str        │\n",
            "╞═══════════╪═════════════╪════════╪══════╪═══╪════════════╪══════════╪════════╪════════════╡\n",
            "│ 35.59     ┆ -90.48      ┆ 15.0   ┆ 4.62 ┆ … ┆ null       ┆ null     ┆ 0.0    ┆ Non-Severe │\n",
            "│ 32.998667 ┆ -115.5575   ┆ 14.19  ┆ 5.8  ┆ … ┆ 1.78       ┆ null     ┆ 0.0    ┆ Severe     │\n",
            "│ 38.19     ┆ -83.95      ┆ 10.0   ┆ 5.0  ┆ … ┆ null       ┆ null     ┆ null   ┆ Non-Severe │\n",
            "│ 35.816    ┆ -117.816333 ┆ 4.766  ┆ 4.7  ┆ … ┆ 31.61      ┆ 0.424    ┆ 9.0    ┆ Non-Severe │\n",
            "│ 33.0955   ┆ -115.6245   ┆ 18.904 ┆ 5.75 ┆ … ┆ 0.67       ┆ 0.161    ┆ 6.0    ┆ Non-Severe │\n",
            "└───────────┴─────────────┴────────┴──────┴───┴────────────┴──────────┴────────┴────────────┘\n"
          ]
        }
      ]
    },
    {
      "cell_type": "markdown",
      "source": [
        "## Question 1.2: Handle null values\n",
        "\n",
        "The result of the `null_count` function indicates that some columns contain null values. Fill these null values with the median of the corresponding column and display the first 5 rows of the resulting dataframe."
      ],
      "metadata": {
        "id": "Yv9TQIWqoWpY"
      }
    },
    {
      "cell_type": "code",
      "source": [
        "df.null_count()"
      ],
      "metadata": {
        "id": "5SkBkhO7ouYE",
        "colab": {
          "base_uri": "https://localhost:8080/",
          "height": 128
        },
        "outputId": "0822a93b-e97e-4a28-9b92-7ca30b8b9d93"
      },
      "execution_count": 5,
      "outputs": [
        {
          "output_type": "execute_result",
          "data": {
            "text/plain": [
              "shape: (1, 12)\n",
              "┌──────────┬───────────┬───────┬─────┬───┬────────────┬──────────┬────────┬───────┐\n",
              "│ latitude ┆ longitude ┆ depth ┆ mag ┆ … ┆ depthError ┆ magError ┆ magNst ┆ Alert │\n",
              "│ ---      ┆ ---       ┆ ---   ┆ --- ┆   ┆ ---        ┆ ---      ┆ ---    ┆ ---   │\n",
              "│ u32      ┆ u32       ┆ u32   ┆ u32 ┆   ┆ u32        ┆ u32      ┆ u32    ┆ u32   │\n",
              "╞══════════╪═══════════╪═══════╪═════╪═══╪════════════╪══════════╪════════╪═══════╡\n",
              "│ 0        ┆ 0         ┆ 0     ┆ 0   ┆ … ┆ 209        ┆ 2214     ┆ 2067   ┆ 0     │\n",
              "└──────────┴───────────┴───────┴─────┴───┴────────────┴──────────┴────────┴───────┘"
            ],
            "text/html": [
              "<div><style>\n",
              ".dataframe > thead > tr,\n",
              ".dataframe > tbody > tr {\n",
              "  text-align: right;\n",
              "  white-space: pre-wrap;\n",
              "}\n",
              "</style>\n",
              "<small>shape: (1, 12)</small><table border=\"1\" class=\"dataframe\"><thead><tr><th>latitude</th><th>longitude</th><th>depth</th><th>mag</th><th>gap</th><th>dmin</th><th>rms</th><th>horizontalError</th><th>depthError</th><th>magError</th><th>magNst</th><th>Alert</th></tr><tr><td>u32</td><td>u32</td><td>u32</td><td>u32</td><td>u32</td><td>u32</td><td>u32</td><td>u32</td><td>u32</td><td>u32</td><td>u32</td><td>u32</td></tr></thead><tbody><tr><td>0</td><td>0</td><td>0</td><td>0</td><td>324</td><td>702</td><td>26</td><td>1218</td><td>209</td><td>2214</td><td>2067</td><td>0</td></tr></tbody></table></div>"
            ]
          },
          "metadata": {},
          "execution_count": 5
        }
      ]
    },
    {
      "cell_type": "code",
      "source": [
        "# Select only numeric columns using pl.selectors.numeric()\n",
        "num_cols = df.select(pl.selectors.numeric()).columns\n",
        "\n",
        "# Fill null values in numerical columns with the median of each column\n",
        "df = df.with_columns([df[col].fill_null(df[col].median()) for col in num_cols])\n",
        "\n",
        "# Display the first 5 rows of the updated DataFrame\n",
        "print(df.head(5))"
      ],
      "metadata": {
        "id": "YvX9BKCnovfk",
        "colab": {
          "base_uri": "https://localhost:8080/"
        },
        "outputId": "89c8c324-dc9a-4fa3-8baf-9c9be3a17dc8"
      },
      "execution_count": 10,
      "outputs": [
        {
          "output_type": "stream",
          "name": "stdout",
          "text": [
            "shape: (5, 12)\n",
            "┌───────────┬─────────────┬────────┬──────┬───┬────────────┬──────────┬────────┬────────────┐\n",
            "│ latitude  ┆ longitude   ┆ depth  ┆ mag  ┆ … ┆ depthError ┆ magError ┆ magNst ┆ Alert      │\n",
            "│ ---       ┆ ---         ┆ ---    ┆ ---  ┆   ┆ ---        ┆ ---      ┆ ---    ┆ ---        │\n",
            "│ f64       ┆ f64         ┆ f64    ┆ f64  ┆   ┆ f64        ┆ f64      ┆ f64    ┆ str        │\n",
            "╞═══════════╪═════════════╪════════╪══════╪═══╪════════════╪══════════╪════════╪════════════╡\n",
            "│ 35.59     ┆ -90.48      ┆ 15.0   ┆ 4.62 ┆ … ┆ 1.8        ┆ 0.059    ┆ 0.0    ┆ Non-Severe │\n",
            "│ 32.998667 ┆ -115.5575   ┆ 14.19  ┆ 5.8  ┆ … ┆ 1.78       ┆ 0.059    ┆ 0.0    ┆ Severe     │\n",
            "│ 38.19     ┆ -83.95      ┆ 10.0   ┆ 5.0  ┆ … ┆ 1.8        ┆ 0.059    ┆ 29.0   ┆ Non-Severe │\n",
            "│ 35.816    ┆ -117.816333 ┆ 4.766  ┆ 4.7  ┆ … ┆ 31.61      ┆ 0.424    ┆ 9.0    ┆ Non-Severe │\n",
            "│ 33.0955   ┆ -115.6245   ┆ 18.904 ┆ 5.75 ┆ … ┆ 0.67       ┆ 0.161    ┆ 6.0    ┆ Non-Severe │\n",
            "└───────────┴─────────────┴────────┴──────┴───┴────────────┴──────────┴────────┴────────────┘\n"
          ]
        }
      ]
    },
    {
      "cell_type": "markdown",
      "source": [
        "## Question 1.3: Explore target distribution\n",
        "\n",
        "Count the number of instances of each severity level of the earthquake in the dataset.\n",
        "\n",
        "Comment on your findings, providing insights into the distribution of different severity levels."
      ],
      "metadata": {
        "id": "61faU0aZzRqk"
      }
    },
    {
      "cell_type": "code",
      "source": [
        "severity_counts = df[\"Alert\"].value_counts()\n",
        "print(severity_counts)"
      ],
      "metadata": {
        "id": "8T3pp1W0zRDt",
        "colab": {
          "base_uri": "https://localhost:8080/"
        },
        "outputId": "01f667c6-931b-4cf8-f2e7-ec53cdcf545a"
      },
      "execution_count": 11,
      "outputs": [
        {
          "output_type": "stream",
          "name": "stdout",
          "text": [
            "shape: (2, 2)\n",
            "┌────────────┬───────┐\n",
            "│ Alert      ┆ count │\n",
            "│ ---        ┆ ---   │\n",
            "│ str        ┆ u32   │\n",
            "╞════════════╪═══════╡\n",
            "│ Severe     ┆ 331   │\n",
            "│ Non-Severe ┆ 7368  │\n",
            "└────────────┴───────┘\n"
          ]
        }
      ]
    },
    {
      "cell_type": "markdown",
      "source": [
        "The dataset exhibits a significant class imbalance, with Non-Severe earthquakes (7368 instances) vastly outnumbering Severe earthquakes (331 instances). This suggests that severe earthquakes are relatively rare events, which is expected given that high-magnitude earthquakes occur less frequently than lower-magnitude ones. Such an imbalance can pose challenges for model training, as a classifier may become biased toward predicting the majority class, potentially leading to poor recall for severe earthquakes. To address this, techniques such as oversampling the minority class, undersampling the majority class, or using class-weighted logistic regression can help improve model performance and ensure that severe earthquakes are adequately recognized."
      ],
      "metadata": {
        "id": "ZtiF3a-qzpPy"
      }
    },
    {
      "cell_type": "markdown",
      "source": [
        "## Question 1.4: Convert target variable\n",
        "\n",
        "Convert **`Alert`** to a binary numerical target:\n",
        "- Replace **`Severe`** with 1.\n",
        "- Replace **`Non-Severe`** with 0.\n",
        "\n",
        "Display the first 5 rows of the resulting dataframe.\n",
        "\n",
        "Hint: If you use the `replace` method, the resulting column will still be of string type. Use `cast` to make it `Float64` after replacement."
      ],
      "metadata": {
        "id": "766tNRJzbBFA"
      }
    },
    {
      "cell_type": "code",
      "source": [
        "# Convert 'Alert' column to binary numerical target\n",
        "df = df.with_columns(\n",
        "    df[\"Alert\"]\n",
        "    .replace({\"Severe\": 1, \"Non-Severe\": 0})  # Replace string labels with numeric values\n",
        "    .cast(pl.Float64)  # Ensure the column is of type Float64\n",
        ")\n",
        "print(df.head(5))"
      ],
      "metadata": {
        "id": "qjO3iAxvaTpT",
        "colab": {
          "base_uri": "https://localhost:8080/"
        },
        "outputId": "0f8bdf3d-03b7-4a72-e8d7-c566d415fee8"
      },
      "execution_count": 12,
      "outputs": [
        {
          "output_type": "stream",
          "name": "stdout",
          "text": [
            "shape: (5, 12)\n",
            "┌───────────┬─────────────┬────────┬──────┬───┬────────────┬──────────┬────────┬───────┐\n",
            "│ latitude  ┆ longitude   ┆ depth  ┆ mag  ┆ … ┆ depthError ┆ magError ┆ magNst ┆ Alert │\n",
            "│ ---       ┆ ---         ┆ ---    ┆ ---  ┆   ┆ ---        ┆ ---      ┆ ---    ┆ ---   │\n",
            "│ f64       ┆ f64         ┆ f64    ┆ f64  ┆   ┆ f64        ┆ f64      ┆ f64    ┆ f64   │\n",
            "╞═══════════╪═════════════╪════════╪══════╪═══╪════════════╪══════════╪════════╪═══════╡\n",
            "│ 35.59     ┆ -90.48      ┆ 15.0   ┆ 4.62 ┆ … ┆ 1.8        ┆ 0.059    ┆ 0.0    ┆ 0.0   │\n",
            "│ 32.998667 ┆ -115.5575   ┆ 14.19  ┆ 5.8  ┆ … ┆ 1.78       ┆ 0.059    ┆ 0.0    ┆ 1.0   │\n",
            "│ 38.19     ┆ -83.95      ┆ 10.0   ┆ 5.0  ┆ … ┆ 1.8        ┆ 0.059    ┆ 29.0   ┆ 0.0   │\n",
            "│ 35.816    ┆ -117.816333 ┆ 4.766  ┆ 4.7  ┆ … ┆ 31.61      ┆ 0.424    ┆ 9.0    ┆ 0.0   │\n",
            "│ 33.0955   ┆ -115.6245   ┆ 18.904 ┆ 5.75 ┆ … ┆ 0.67       ┆ 0.161    ┆ 6.0    ┆ 0.0   │\n",
            "└───────────┴─────────────┴────────┴──────┴───┴────────────┴──────────┴────────┴───────┘\n"
          ]
        }
      ]
    },
    {
      "cell_type": "markdown",
      "source": [
        "## Question 1.5: Train test split\n",
        "\n",
        "Split the dataset into training and testing sets:\n",
        "- With **30% testing data** and **70% training data**.\n",
        "- Set the **random state** to **2025**.\n",
        "- Use **stratified splitting** to **maintain the same proportion of each class** in the target variable (**`Alert`**) in both the training and testing sets.\n",
        "\n",
        "Display the descriptive statistics for X_train and X_test."
      ],
      "metadata": {
        "id": "mxDVkMQ-hEem"
      }
    },
    {
      "cell_type": "code",
      "source": [
        "# Separate features (X) and target variable (y)\n",
        "X = df.drop(\"Alert\")  # Features\n",
        "y = df[\"Alert\"]  # Target\n",
        "\n",
        "# Perform stratified train-test split (70% training, 30% testing)\n",
        "X_train, X_test, y_train, y_test = train_test_split(\n",
        "    X, y, test_size=0.30, random_state=2025, stratify=y\n",
        ")\n",
        "\n",
        "# Display descriptive statistics for X_train and X_test\n",
        "print(\"Descriptive Statistics for X_train:\")\n",
        "print(X_train.describe())\n",
        "\n",
        "print(\"\\nDescriptive Statistics for X_test:\")\n",
        "print(X_test.describe())"
      ],
      "metadata": {
        "id": "DG9n0DVHwJp0",
        "colab": {
          "base_uri": "https://localhost:8080/"
        },
        "outputId": "020be7be-ca2a-41b8-9482-9b689f82b59c"
      },
      "execution_count": 13,
      "outputs": [
        {
          "output_type": "stream",
          "name": "stdout",
          "text": [
            "Descriptive Statistics for X_train:\n",
            "shape: (9, 12)\n",
            "┌───────────┬───────────┬───────────┬───────────┬───┬───────────┬───────────┬──────────┬───────────┐\n",
            "│ statistic ┆ latitude  ┆ longitude ┆ depth     ┆ … ┆ horizonta ┆ depthErro ┆ magError ┆ magNst    │\n",
            "│ ---       ┆ ---       ┆ ---       ┆ ---       ┆   ┆ lError    ┆ r         ┆ ---      ┆ ---       │\n",
            "│ str       ┆ f64       ┆ f64       ┆ f64       ┆   ┆ ---       ┆ ---       ┆ f64      ┆ f64       │\n",
            "│           ┆           ┆           ┆           ┆   ┆ f64       ┆ f64       ┆          ┆           │\n",
            "╞═══════════╪═══════════╪═══════════╪═══════════╪═══╪═══════════╪═══════════╪══════════╪═══════════╡\n",
            "│ count     ┆ 5389.0    ┆ 5389.0    ┆ 5389.0    ┆ … ┆ 5389.0    ┆ 5389.0    ┆ 5389.0   ┆ 5389.0    │\n",
            "│ null_coun ┆ 0.0       ┆ 0.0       ┆ 0.0       ┆ … ┆ 0.0       ┆ 0.0       ┆ 0.0      ┆ 0.0       │\n",
            "│ t         ┆           ┆           ┆           ┆   ┆           ┆           ┆          ┆           │\n",
            "│ mean      ┆ 1.196909  ┆ 14.828723 ┆ 58.076958 ┆ … ┆ 6.98469   ┆ 2.524978  ┆ 0.065569 ┆ 41.092225 │\n",
            "│ std       ┆ 32.640056 ┆ 128.02419 ┆ 118.04858 ┆ … ┆ 2.648101  ┆ 3.065915  ┆ 0.049294 ┆ 57.690582 │\n",
            "│           ┆           ┆ 9         ┆ 9         ┆   ┆           ┆           ┆          ┆           │\n",
            "│ min       ┆ -69.7739  ┆ -179.9776 ┆ -1.77     ┆ … ┆ 0.08      ┆ 0.0       ┆ 0.0      ┆ 0.0       │\n",
            "│ 25%       ┆ -21.7957  ┆ -110.7745 ┆ 10.0      ┆ … ┆ 5.9       ┆ 1.7       ┆ 0.052    ┆ 21.0      │\n",
            "│ 50%       ┆ -3.3488   ┆ 39.3035   ┆ 13.0      ┆ … ┆ 7.1       ┆ 1.8       ┆ 0.059    ┆ 29.0      │\n",
            "│ 75%       ┆ 29.3592   ┆ 140.6546  ┆ 41.14     ┆ … ┆ 8.21      ┆ 2.8       ┆ 0.068    ┆ 39.0      │\n",
            "│ max       ┆ 85.729    ┆ 179.9604  ┆ 670.81    ┆ … ┆ 88.54     ┆ 31.95     ┆ 1.642    ┆ 884.0     │\n",
            "└───────────┴───────────┴───────────┴───────────┴───┴───────────┴───────────┴──────────┴───────────┘\n",
            "\n",
            "Descriptive Statistics for X_test:\n",
            "shape: (9, 12)\n",
            "┌───────────┬───────────┬───────────┬───────────┬───┬───────────┬───────────┬──────────┬───────────┐\n",
            "│ statistic ┆ latitude  ┆ longitude ┆ depth     ┆ … ┆ horizonta ┆ depthErro ┆ magError ┆ magNst    │\n",
            "│ ---       ┆ ---       ┆ ---       ┆ ---       ┆   ┆ lError    ┆ r         ┆ ---      ┆ ---       │\n",
            "│ str       ┆ f64       ┆ f64       ┆ f64       ┆   ┆ ---       ┆ ---       ┆ f64      ┆ f64       │\n",
            "│           ┆           ┆           ┆           ┆   ┆ f64       ┆ f64       ┆          ┆           │\n",
            "╞═══════════╪═══════════╪═══════════╪═══════════╪═══╪═══════════╪═══════════╪══════════╪═══════════╡\n",
            "│ count     ┆ 2310.0    ┆ 2310.0    ┆ 2310.0    ┆ … ┆ 2310.0    ┆ 2310.0    ┆ 2310.0   ┆ 2310.0    │\n",
            "│ null_coun ┆ 0.0       ┆ 0.0       ┆ 0.0       ┆ … ┆ 0.0       ┆ 0.0       ┆ 0.0      ┆ 0.0       │\n",
            "│ t         ┆           ┆           ┆           ┆   ┆           ┆           ┆          ┆           │\n",
            "│ mean      ┆ 0.53834   ┆ 15.979179 ┆ 61.120117 ┆ … ┆ 7.017238  ┆ 2.611522  ┆ 0.064856 ┆ 43.975325 │\n",
            "│ std       ┆ 31.698853 ┆ 129.07724 ┆ 121.71298 ┆ … ┆ 2.39899   ┆ 3.11102   ┆ 0.047096 ┆ 64.174417 │\n",
            "│           ┆           ┆ 9         ┆ 2         ┆   ┆           ┆           ┆          ┆           │\n",
            "│ min       ┆ -65.552   ┆ -179.9533 ┆ -0.924    ┆ … ┆ 0.08      ┆ 0.0       ┆ 0.0      ┆ 0.0       │\n",
            "│ 25%       ┆ -21.6779  ┆ -108.662  ┆ 10.0      ┆ … ┆ 5.9       ┆ 1.7       ┆ 0.052    ┆ 22.0      │\n",
            "│ 50%       ┆ -3.8727   ┆ 45.0259   ┆ 15.44     ┆ … ┆ 7.1       ┆ 1.8       ┆ 0.059    ┆ 29.0      │\n",
            "│ 75%       ┆ 26.404    ┆ 141.6605  ┆ 43.0      ┆ … ┆ 8.3       ┆ 3.0       ┆ 0.066    ┆ 40.0      │\n",
            "│ max       ┆ 85.2392   ┆ 179.9981  ┆ 639.503   ┆ … ┆ 15.3      ┆ 31.61     ┆ 1.334    ┆ 954.0     │\n",
            "└───────────┴───────────┴───────────┴───────────┴───┴───────────┴───────────┴──────────┴───────────┘\n"
          ]
        }
      ]
    },
    {
      "cell_type": "markdown",
      "source": [
        "# Part 2: Sequential Feature Selection"
      ],
      "metadata": {
        "id": "DkcOJ8fErgu8"
      }
    },
    {
      "cell_type": "markdown",
      "source": [
        "## Question 2.1: Forward Selection\n",
        "\n",
        "Create a pipeline using [`SequentialFeatureSelector`](https://scikit-learn.org/stable/modules/generated/sklearn.feature_selection.SequentialFeatureSelector.html) to perform **forward** feature selection:\n",
        "- Standardize the data, ensuring each feature has a mean of 0 and a standard deviation of 1.\n",
        "- Use **ROC AUC** as the scoring metric for feature selection. Conduct **5-fold cross-validation** to evaluate the model. Set the **tolerance for stopping** the selection process to **0.001**.\n",
        "- Configure the logistic regression to use the default **`lbfgs`** as solver with **no penalty**. Set the **maximum number of iterations** to **1000**. Use a **balanced** weight that adjust weights inversely proportional to class frequencies in the input data. Set the **random state** to **2025**.\n",
        "\n",
        "Fit the pipeline and report the subset of variables on this method.\n"
      ],
      "metadata": {
        "id": "6MKT3NRarkz5"
      }
    },
    {
      "cell_type": "code",
      "source": [
        "# Define logistic regression model with specified parameters\n",
        "log_reg = LogisticRegression(\n",
        "    solver=\"lbfgs\",\n",
        "    penalty=None,  # No penalty\n",
        "    max_iter=1000,\n",
        "    class_weight=\"balanced\",  # Adjust weights inversely proportional to class frequencies\n",
        "    random_state=2025\n",
        ")\n",
        "\n",
        "# Define a pipeline\n",
        "pipeline = Pipeline([\n",
        "    (\"scaler\", StandardScaler()),  # Standardization step\n",
        "    (\"sfs\", SequentialFeatureSelector(\n",
        "        log_reg,\n",
        "        n_jobs=-1,  # Use all processors\n",
        "        direction=\"forward\",  # Forward selection\n",
        "        scoring=\"roc_auc\",  # Use ROC AUC for evaluation\n",
        "        cv=5,  # 5-fold cross-validation\n",
        "        tol=0.001  # Stopping criterion\n",
        "    )),\n",
        "])\n",
        "\n",
        "# Fit the pipeline (feature selection only)\n",
        "pipeline.fit(X_train, y_train)\n",
        "\n",
        "# Get the selected feature names correctly\n",
        "selected_features = np.array(X_train.columns)[pipeline.named_steps[\"sfs\"].get_support()]\n",
        "\n",
        "# Print the selected subset of variables\n",
        "print(\"Selected Features:\", selected_features)"
      ],
      "metadata": {
        "id": "I0gfWRgo1P14",
        "colab": {
          "base_uri": "https://localhost:8080/"
        },
        "outputId": "848f931c-83cf-4a12-8da7-92b156dd4f9e"
      },
      "execution_count": 15,
      "outputs": [
        {
          "output_type": "stream",
          "name": "stdout",
          "text": [
            "Selected Features: ['latitude' 'depth' 'mag' 'dmin' 'horizontalError']\n"
          ]
        }
      ]
    },
    {
      "cell_type": "markdown",
      "source": [
        "## Question 2.2: Backward Selection\n",
        "\n",
        "Create a pipeline using [`SequentialFeatureSelector`](https://scikit-learn.org/stable/modules/generated/sklearn.feature_selection.SequentialFeatureSelector.html) to perform **backward** feature selection. Keep all other configurations the same as in the previous question\n",
        "\n",
        "Fit the pipeline and report the subset of variables on this method.\n"
      ],
      "metadata": {
        "id": "ACAsAnUdLB_o"
      }
    },
    {
      "cell_type": "code",
      "source": [
        "# Define logistic regression model with specified parameters\n",
        "log_reg = LogisticRegression(\n",
        "    solver=\"lbfgs\",\n",
        "    penalty=None,  # No penalty\n",
        "    max_iter=1000,\n",
        "    class_weight=\"balanced\",  # Adjusts weights inversely proportional to class frequencies\n",
        "    random_state=2025\n",
        ")\n",
        "\n",
        "# Define a pipeline with backward selection\n",
        "pipeline = Pipeline([\n",
        "    (\"scaler\", StandardScaler()),  # Standardization step\n",
        "    (\"sfs\", SequentialFeatureSelector(\n",
        "        log_reg,\n",
        "        n_jobs=-1,  # Use all processors\n",
        "        direction=\"backward\",  # Backward selection\n",
        "        scoring=\"roc_auc\",  # Use ROC AUC for evaluation\n",
        "        cv=5,  # 5-fold cross-validation\n",
        "        tol=0.001  # Stopping criterion\n",
        "    )),\n",
        "])\n",
        "\n",
        "# Fit the pipeline (feature selection only)\n",
        "pipeline.fit(X_train, y_train)\n",
        "\n",
        "# Get the selected feature names correctly\n",
        "selected_features_backward = np.array(X_train.columns)[pipeline.named_steps[\"sfs\"].get_support()]\n",
        "\n",
        "# Print the selected subset of variables\n",
        "print(\"Selected Features (Backward Selection):\", selected_features_backward)"
      ],
      "metadata": {
        "id": "fnrafwMxK08Z",
        "colab": {
          "base_uri": "https://localhost:8080/"
        },
        "outputId": "21c11f6b-ef30-4beb-824f-7451ee851d6a"
      },
      "execution_count": 16,
      "outputs": [
        {
          "output_type": "stream",
          "name": "stdout",
          "text": [
            "Selected Features (Backward Selection): ['latitude' 'longitude' 'depth' 'mag' 'gap' 'dmin' 'horizontalError'\n",
            " 'depthError' 'magError' 'magNst']\n"
          ]
        }
      ]
    },
    {
      "cell_type": "markdown",
      "source": [
        "## Question 2.3: Compare results & find the best model\n",
        "\n",
        "Compare and discuss the selected subset of variables obtained from both methods used in the previous steps.\n",
        "\n",
        "Perform an **exhaustive search** over all possible subsets of the remaining variables using **5-fold cross-validation** to find the best model. Use the same Logistic Regression configurations as in previous questions.\n",
        "\n",
        "Hint: If you have correctly followed the previous steps, you should have **five remaining variables** to evaluate in the exhaustive search."
      ],
      "metadata": {
        "id": "8cSXKQpXMlwm"
      }
    },
    {
      "cell_type": "markdown",
      "source": [
        "The feature subsets obtained from forward and backward selection show key differences in how they evaluate feature importance. Forward selection, which starts with an empty model and adds features one by one based on the highest improvement in ROC AUC, resulted in a more compact subset with only 5 features: `latitude`, `depth`, `mag`, `dmin`, and `horizontalError`. This suggests that these features provide the most immediate predictive power when considered in isolation or small groups. In contrast, backward selection, which starts with all features and removes the least useful ones iteratively, retained a larger subset of 10 features, including `longitude`, `gap`, `depthError`, `magError`, and `magNst`, in addition to those selected by forward selection. This indicates that while these additional features may not have provided substantial improvements when added individually in forward selection, they still contribute meaningfully when considered in the full model. The difference in results highlights how forward selection tends to be more aggressive, favoring a parsimonious model, while backward selection is more conservative, retaining potentially redundant but collectively important features. A comparison of model performance using both subsets can help determine which approach generalizes better."
      ],
      "metadata": {
        "id": "fEAnA4JUOgw_"
      }
    },
    {
      "cell_type": "code",
      "source": [
        "# Define logistic regression model with specified parameters\n",
        "log_reg = LogisticRegression(\n",
        "    solver=\"lbfgs\",\n",
        "    penalty=None,  # No penalty\n",
        "    max_iter=1000,\n",
        "    class_weight=\"balanced\",  # Adjusts weights inversely proportional to class frequencies\n",
        "    random_state=2025\n",
        ")\n",
        "\n",
        "# Selected features from forward selection\n",
        "selected_features = ['latitude', 'depth', 'mag', 'dmin', 'horizontalError']\n",
        "\n",
        "# Generate all possible feature subsets (powerset excluding empty set)\n",
        "def powerset(iterable):\n",
        "    \"\"\"Returns all non-empty subsets of the given iterable.\"\"\"\n",
        "    s = list(iterable)\n",
        "    return chain.from_iterable(combinations(s, r) for r in range(1, len(s) + 1))\n",
        "\n",
        "# Dictionary to store results\n",
        "subset_scores = {}\n",
        "\n",
        "# Iterate over all possible feature subsets\n",
        "for subset in powerset(selected_features):\n",
        "    subset = list(subset)  # Convert tuple to list\n",
        "\n",
        "    # Extract only selected subset of features\n",
        "    X_train_subset = X_train[subset]\n",
        "    X_test_subset = X_test[subset]\n",
        "\n",
        "    # Perform 5-fold cross-validation and compute mean ROC AUC score\n",
        "    score = np.mean(cross_val_score(log_reg, X_train_subset, y_train, cv=5, scoring=\"roc_auc\"))\n",
        "\n",
        "    # Store the score for this feature subset\n",
        "    subset_scores[tuple(subset)] = score\n",
        "\n",
        "# Identify the best feature subset\n",
        "best_subset = max(subset_scores, key=subset_scores.get)\n",
        "best_score = subset_scores[best_subset]\n",
        "\n",
        "# Print the best subset and its ROC AUC score\n",
        "print(\"Best Feature Subset:\", best_subset)\n",
        "print(\"Best ROC AUC Score:\", best_score)"
      ],
      "metadata": {
        "id": "Qjjk41LbMlo5",
        "colab": {
          "base_uri": "https://localhost:8080/"
        },
        "outputId": "ea01d853-7787-43f3-f569-d2d8c7769d43"
      },
      "execution_count": 17,
      "outputs": [
        {
          "output_type": "stream",
          "name": "stdout",
          "text": [
            "Best Feature Subset: ('latitude', 'depth', 'mag', 'dmin', 'horizontalError')\n",
            "Best ROC AUC Score: 0.8893833264825519\n"
          ]
        }
      ]
    },
    {
      "cell_type": "markdown",
      "source": [
        "## Question 2.4: Fit the best model\n",
        "\n",
        "Train a logistic regression model with the best variables selected.\n",
        "\n",
        "Display the model's coefficients and intercept."
      ],
      "metadata": {
        "id": "Qe7q3KFzSCOp"
      }
    },
    {
      "cell_type": "code",
      "source": [
        "# Extract the best subset of features\n",
        "X_train_best = X_train[list(best_subset)]\n",
        "X_test_best = X_test[list(best_subset)]\n",
        "\n",
        "# Train the final logistic regression model\n",
        "final_model = LogisticRegression(\n",
        "    solver=\"lbfgs\",\n",
        "    penalty=None,  # No penalty\n",
        "    max_iter=1000,\n",
        "    class_weight=\"balanced\",  # Adjusts weights inversely proportional to class frequencies\n",
        "    random_state=2025\n",
        ")\n",
        "\n",
        "final_model.fit(X_train_best, y_train)\n",
        "\n",
        "# Display model coefficients and intercept\n",
        "print(\"Intercept:\", final_model.intercept_[0])\n",
        "print(\"Coefficients:\")\n",
        "\n",
        "# Mapping feature names to coefficients\n",
        "for feature, coef in zip(best_subset, final_model.coef_[0]):\n",
        "    print(f\"{feature}: {coef}\")"
      ],
      "metadata": {
        "id": "YdCYh9e3MlPu",
        "colab": {
          "base_uri": "https://localhost:8080/"
        },
        "outputId": "62d07d46-e781-424f-e191-57f8f6060698"
      },
      "execution_count": 18,
      "outputs": [
        {
          "output_type": "stream",
          "name": "stdout",
          "text": [
            "Intercept: -13.654766677001279\n",
            "Coefficients:\n",
            "latitude: 0.03451549260760152\n",
            "depth: -0.02279378890337942\n",
            "mag: 2.571071674381321\n",
            "dmin: -0.1564821658350278\n",
            "horizontalError: -0.1430463621513815\n"
          ]
        }
      ]
    },
    {
      "cell_type": "markdown",
      "source": [
        "## Question 2.5: Measure model's performance\n",
        "\n",
        "Construct a **95% confidence interval** for both accuracy and AUC using **100 bootstrap resamples** of the test set."
      ],
      "metadata": {
        "id": "NkqKda5RV0hZ"
      }
    },
    {
      "cell_type": "code",
      "source": [
        "np.random.seed(2025) # DO NOT DELETE\n",
        "\n",
        "# Number of bootstrap resamples\n",
        "n_bootstraps = 100\n",
        "\n",
        "# Store bootstrap accuracy and AUC scores\n",
        "bootstrap_acc = []\n",
        "bootstrap_auc = []\n",
        "\n",
        "# Convert Polars DataFrame to Pandas (since scikit-learn needs Pandas or NumPy)\n",
        "X_test_best_pd = X_test_best.to_pandas()\n",
        "y_test_pd = y_test.to_pandas()\n",
        "\n",
        "# Perform bootstrap resampling\n",
        "for _ in range(n_bootstraps):\n",
        "    # Sample test set with replacement using NumPy\n",
        "    indices = np.random.choice(len(X_test_best_pd), size=len(X_test_best_pd), replace=True)\n",
        "    X_test_sample = X_test_best_pd.iloc[indices]\n",
        "    y_test_sample = y_test_pd.iloc[indices]\n",
        "\n",
        "    # Predict on bootstrap sample\n",
        "    y_pred = final_model.predict(X_test_sample)\n",
        "    y_pred_proba = final_model.predict_proba(X_test_sample)[:, 1]  # Probabilities for ROC AUC\n",
        "\n",
        "    # Compute accuracy and AUC\n",
        "    bootstrap_acc.append(accuracy_score(y_test_sample, y_pred))\n",
        "    bootstrap_auc.append(roc_auc_score(y_test_sample, y_pred_proba))\n",
        "\n",
        "# Compute 95% confidence intervals\n",
        "acc_ci = (np.percentile(bootstrap_acc, 2.5), np.percentile(bootstrap_acc, 97.5))\n",
        "auc_ci = (np.percentile(bootstrap_auc, 2.5), np.percentile(bootstrap_auc, 97.5))\n",
        "\n",
        "# Display results\n",
        "print(f\"95% CI for Accuracy: {acc_ci}\")\n",
        "print(f\"95% CI for AUC: {auc_ci}\")"
      ],
      "metadata": {
        "id": "u7JoX1dnMFUR",
        "colab": {
          "base_uri": "https://localhost:8080/"
        },
        "outputId": "94232474-5830-4536-946f-d84587836c7c"
      },
      "execution_count": 21,
      "outputs": [
        {
          "output_type": "stream",
          "name": "stdout",
          "text": [
            "95% CI for Accuracy: (0.7835281385281385, 0.8132142857142857)\n",
            "95% CI for AUC: (0.8456320770483267, 0.902112446730215)\n"
          ]
        }
      ]
    },
    {
      "cell_type": "markdown",
      "source": [
        "# Part 3: Regularization"
      ],
      "metadata": {
        "id": "DMFb9isT5HG7"
      }
    },
    {
      "cell_type": "markdown",
      "source": [
        "## Question 3.1: Ridge penalization\n",
        "\n",
        "Create a pipeline using [`LogisticRegressionCV`](https://scikit-learn.org/stable/modules/generated/sklearn.linear_model.LogisticRegressionCV.html) to implement a logistic regression with **Ridge penalization**:\n",
        "- Standardize the data, ensuring each feature has a mean of 0 and a standard deviation of 1.\n",
        "- Configure the **`LogisticRegressionCV`** to use **`saga`** as solver. Use the default **`Cs = 10`**. Set the **maximum number of iterations** to **1000**. Use a **balanced** weight that adjust weights inversely proportional to class frequencies in the input data. Set the **random state** to **2025**. Use **5-fold cross-validation**.\n",
        "\n",
        "Fit the pipeline to get the best model.\n",
        "\n",
        "Construct a **95% confidence interval** for both accuracy and AUC using **100 bootstrap resamples** of the test set."
      ],
      "metadata": {
        "id": "UN8KyRvX6D_y"
      }
    },
    {
      "cell_type": "code",
      "source": [
        "np.random.seed(2025) # DO NOT DELETE\n",
        "\n",
        "# Define logistic regression with Ridge penalty using LogisticRegressionCV\n",
        "log_reg_cv = LogisticRegressionCV(\n",
        "    solver=\"saga\",  # Supports Ridge (L2) regularization\n",
        "    Cs=10,  # Default Cs (inverse of regularization strength)\n",
        "    max_iter=1000,\n",
        "    class_weight=\"balanced\",  # Adjust weights inversely proportional to class frequencies\n",
        "    cv=5,  # 5-fold cross-validation\n",
        "    random_state=2025\n",
        ")\n",
        "\n",
        "# Define a pipeline for standardization + logistic regression\n",
        "pipeline_cv = Pipeline([\n",
        "    (\"scaler\", StandardScaler()),  # Standardization step\n",
        "    (\"log_reg\", log_reg_cv)  # Logistic Regression with cross-validation\n",
        "])\n",
        "\n",
        "# Fit the pipeline\n",
        "pipeline_cv.fit(X_train_best, y_train)\n",
        "\n",
        "# Best model is stored in pipeline_cv.named_steps[\"log_reg\"]\n",
        "best_model = pipeline_cv.named_steps[\"log_reg\"]\n",
        "\n",
        "# Display best regularization strength (C) selected\n",
        "print(\"Best Regularization Strength (C):\", best_model.C_)\n",
        "\n",
        "# Number of bootstrap resamples\n",
        "n_bootstraps = 100\n",
        "\n",
        "# Store bootstrap accuracy and AUC scores\n",
        "bootstrap_acc = []\n",
        "bootstrap_auc = []\n",
        "\n",
        "# Convert Polars DataFrame to Pandas (for scikit-learn compatibility)\n",
        "X_test_best_pd = X_test_best.to_pandas()\n",
        "y_test_pd = y_test.to_pandas()\n",
        "\n",
        "# Perform bootstrap resampling\n",
        "for _ in range(n_bootstraps):\n",
        "    # Sample test set with replacement\n",
        "    indices = np.random.choice(len(X_test_best_pd), size=len(X_test_best_pd), replace=True)\n",
        "    X_test_sample = X_test_best_pd.iloc[indices]\n",
        "    y_test_sample = y_test_pd.iloc[indices]\n",
        "\n",
        "    # Predict on bootstrap sample\n",
        "    y_pred = pipeline_cv.predict(X_test_sample)\n",
        "    y_pred_proba = pipeline_cv.predict_proba(X_test_sample)[:, 1]  # Probabilities for ROC AUC\n",
        "\n",
        "    # Compute accuracy and AUC\n",
        "    bootstrap_acc.append(accuracy_score(y_test_sample, y_pred))\n",
        "    bootstrap_auc.append(roc_auc_score(y_test_sample, y_pred_proba))\n",
        "\n",
        "# Compute 95% confidence intervals\n",
        "acc_ci = (np.percentile(bootstrap_acc, 2.5), np.percentile(bootstrap_acc, 97.5))\n",
        "auc_ci = (np.percentile(bootstrap_auc, 2.5), np.percentile(bootstrap_auc, 97.5))\n",
        "\n",
        "# Display results\n",
        "print(f\"95% CI for Accuracy: {acc_ci}\")\n",
        "print(f\"95% CI for AUC: {auc_ci}\")"
      ],
      "metadata": {
        "id": "QZh1TMq942kd",
        "colab": {
          "base_uri": "https://localhost:8080/"
        },
        "outputId": "41391cd8-af4f-4f4d-b8bb-1599741fd0a4"
      },
      "execution_count": 23,
      "outputs": [
        {
          "output_type": "stream",
          "name": "stdout",
          "text": [
            "Best Regularization Strength (C): [0.0001]\n",
            "95% CI for Accuracy: (0.7927813852813853, 0.8210064935064935)\n",
            "95% CI for AUC: (0.8278623267934919, 0.8870706828691398)\n"
          ]
        }
      ]
    },
    {
      "cell_type": "markdown",
      "source": [
        "## Question 3.2: Lasso penalization\n",
        "\n",
        "Create a pipeline using [`LogisticRegressionCV`](https://scikit-learn.org/stable/modules/generated/sklearn.linear_model.LogisticRegressionCV.html) to implement a logistic regression with **Lasso penalization**:\n",
        "- Standardize the data, ensuring each feature has a mean of 0 and a standard deviation of 1.\n",
        "- Configure the **`LogisticRegressionCV`** to use **`saga`** as solver. Use the default **`Cs = 10`**. Set the **maximum number of iterations** to **1000**. Use a **balanced** weight that adjust weights inversely proportional to class frequencies in the input data. Set the **random state** to **2025**. Use **5-fold cross-validation**.\n",
        "\n",
        "Fit the pipeline to get the best model.\n",
        "\n",
        "Construct a **95% confidence interval** for both accuracy and AUC using **100 bootstrap resamples** of the test set."
      ],
      "metadata": {
        "id": "LWwwyAFxEs3O"
      }
    },
    {
      "cell_type": "code",
      "source": [
        "np.random.seed(2025) # DO NOT DELETE\n",
        "\n",
        "# Define logistic regression with Lasso (L1) penalty using LogisticRegressionCV\n",
        "log_reg_lasso = LogisticRegressionCV(\n",
        "    solver=\"saga\",  # SAGA solver supports L1 (Lasso) regularization\n",
        "    penalty=\"l1\",  # Lasso (L1) regularization\n",
        "    Cs=10,  # Default Cs (inverse of regularization strength)\n",
        "    max_iter=1000,\n",
        "    class_weight=\"balanced\",  # Adjust weights inversely proportional to class frequencies\n",
        "    cv=5,  # 5-fold cross-validation\n",
        "    random_state=2025\n",
        ")\n",
        "\n",
        "# Define a pipeline for standardization + logistic regression\n",
        "pipeline_lasso = Pipeline([\n",
        "    (\"scaler\", StandardScaler()),  # Standardization step\n",
        "    (\"log_reg\", log_reg_lasso)  # Logistic Regression with Lasso\n",
        "])\n",
        "\n",
        "# Fit the pipeline\n",
        "pipeline_lasso.fit(X_train_best, y_train)\n",
        "\n",
        "# Best model is stored in pipeline_lasso.named_steps[\"log_reg\"]\n",
        "best_lasso_model = pipeline_lasso.named_steps[\"log_reg\"]\n",
        "\n",
        "# Display best regularization strength (C) selected\n",
        "print(\"Best Regularization Strength (C):\", best_lasso_model.C_)\n",
        "\n",
        "# Number of bootstrap resamples\n",
        "n_bootstraps = 100\n",
        "\n",
        "# Store bootstrap accuracy and AUC scores\n",
        "bootstrap_acc = []\n",
        "bootstrap_auc = []\n",
        "\n",
        "# Convert Polars DataFrame to Pandas (for scikit-learn compatibility)\n",
        "X_test_best_pd = X_test_best.to_pandas()\n",
        "y_test_pd = y_test.to_pandas()\n",
        "\n",
        "# Perform bootstrap resampling\n",
        "for _ in range(n_bootstraps):\n",
        "    # Sample test set with replacement\n",
        "    indices = np.random.choice(len(X_test_best_pd), size=len(X_test_best_pd), replace=True)\n",
        "    X_test_sample = X_test_best_pd.iloc[indices]\n",
        "    y_test_sample = y_test_pd.iloc[indices]\n",
        "\n",
        "    # Predict on bootstrap sample\n",
        "    y_pred = pipeline_lasso.predict(X_test_sample)\n",
        "    y_pred_proba = pipeline_lasso.predict_proba(X_test_sample)[:, 1]  # Probabilities for ROC AUC\n",
        "\n",
        "    # Compute accuracy and AUC\n",
        "    bootstrap_acc.append(accuracy_score(y_test_sample, y_pred))\n",
        "    bootstrap_auc.append(roc_auc_score(y_test_sample, y_pred_proba))\n",
        "\n",
        "# Compute 95% confidence intervals\n",
        "acc_ci = (np.percentile(bootstrap_acc, 2.5), np.percentile(bootstrap_acc, 97.5))\n",
        "auc_ci = (np.percentile(bootstrap_auc, 2.5), np.percentile(bootstrap_auc, 97.5))\n",
        "\n",
        "# Display results\n",
        "print(f\"95% CI for Accuracy: {acc_ci}\")\n",
        "print(f\"95% CI for AUC: {auc_ci}\")"
      ],
      "metadata": {
        "id": "EOFq1EqUDR5F",
        "colab": {
          "base_uri": "https://localhost:8080/"
        },
        "outputId": "79759714-ceb5-4571-ab57-97f31d59b2b2"
      },
      "execution_count": 24,
      "outputs": [
        {
          "output_type": "stream",
          "name": "stdout",
          "text": [
            "Best Regularization Strength (C): [0.35938137]\n",
            "95% CI for Accuracy: (0.7833225108225108, 0.8127813852813853)\n",
            "95% CI for AUC: (0.8455077979180496, 0.9022788418730096)\n"
          ]
        }
      ]
    },
    {
      "cell_type": "markdown",
      "source": [
        "## Question 3.3: Ridge vs Lasso\n",
        "\n",
        "Report the coefficients from the best-performing models with Ridge and Lasso penalties.\n",
        "\n",
        "Compare and discuss how the coefficient magnitudes differ between Ridge and Lasso, and explain."
      ],
      "metadata": {
        "id": "yB9OrR_SFmUq"
      }
    },
    {
      "cell_type": "code",
      "source": [
        "# Get feature names\n",
        "feature_names = X_train_best.columns\n",
        "\n",
        "# Extract coefficients from Ridge model\n",
        "ridge_coefs = best_model.coef_.flatten()\n",
        "\n",
        "# Extract coefficients from Lasso model\n",
        "lasso_coefs = best_lasso_model.coef_.flatten()\n",
        "\n",
        "# Create DataFrame to compare coefficients\n",
        "coef_df = pd.DataFrame({\n",
        "    \"Feature\": feature_names,\n",
        "    \"Ridge Coefficient\": ridge_coefs,\n",
        "    \"Lasso Coefficient\": lasso_coefs\n",
        "})\n",
        "\n",
        "# Sort by absolute value of Ridge coefficients for better readability\n",
        "coef_df[\"Abs Ridge\"] = coef_df[\"Ridge Coefficient\"].abs()\n",
        "coef_df = coef_df.sort_values(by=\"Abs Ridge\", ascending=False).drop(columns=[\"Abs Ridge\"])\n",
        "\n",
        "# Display the coefficients\n",
        "print(coef_df.to_string(index=False))"
      ],
      "metadata": {
        "id": "90aHPsKTE6vc",
        "colab": {
          "base_uri": "https://localhost:8080/"
        },
        "outputId": "3f3162fb-9687-4765-faac-c38c8b9aa6a8"
      },
      "execution_count": 26,
      "outputs": [
        {
          "output_type": "stream",
          "name": "stdout",
          "text": [
            "        Feature  Ridge Coefficient  Lasso Coefficient\n",
            "            mag           0.129077           1.307781\n",
            "       latitude           0.078482           1.114032\n",
            "horizontalError          -0.061254          -0.379603\n",
            "           dmin          -0.044217          -0.766423\n",
            "          depth          -0.038796          -2.588225\n"
          ]
        }
      ]
    },
    {
      "cell_type": "markdown",
      "source": [
        "The coefficient magnitudes differ significantly between Ridge and Lasso due to their distinct regularization approaches. Ridge regression (L2 penalty) distributes the shrinkage evenly across all features, ensuring that no coefficient is completely eliminated but rather scaled down proportionally. This results in smaller coefficient magnitudes overall, as seen in the relatively low absolute values for all features. On the other hand, Lasso regression (L1 penalty) performs feature selection by shrinking some coefficients aggressively, pushing weaker ones toward zero, and allowing a few key features to have larger absolute values. In this case, Lasso assigned much higher importance to `mag (1.3078)`, `latitude (1.1140)`, and `depth (-2.5882)` compared to Ridge, indicating that these features play a dominant role in classification. The greater absolute magnitudes suggest that Lasso forces the model to rely more heavily on fewer predictors, making it sparser and potentially more interpretable. In contrast, Ridge maintains a more balanced, conservative approach, retaining information across all features rather than emphasizing only a few."
      ],
      "metadata": {
        "id": "3fgLpuw3ItWi"
      }
    },
    {
      "cell_type": "markdown",
      "source": [
        "# Part 4: Overall Comparison\n",
        "\n",
        "Compare the best models obtained using **Sequential Feature Selection**, **Ridge Regularization**, and **Lasso Regularization** by plotting the ROC curve for each model on a single plot. Additionally, include a diagonal reference line representing random classification performance (i.e., an ROC curve with an AUC of 0.5).\n",
        "\n",
        "Provide a brief analysis and comment on your findings (no need to identify the best model)."
      ],
      "metadata": {
        "id": "DoMw6CaUMx-B"
      }
    },
    {
      "cell_type": "code",
      "source": [
        "# Get predicted probabilities for each model\n",
        "y_pred_proba_sfs = final_model.predict_proba(X_test_best)[:, 1]  # Sequential Feature Selection model\n",
        "y_pred_proba_ridge = pipeline_cv.predict_proba(X_test_best)[:, 1]  # Ridge model\n",
        "y_pred_proba_lasso = pipeline_lasso.predict_proba(X_test_best)[:, 1]  # Lasso model\n",
        "\n",
        "# Compute ROC curves\n",
        "fpr_sfs, tpr_sfs, _ = roc_curve(y_test, y_pred_proba_sfs)\n",
        "fpr_ridge, tpr_ridge, _ = roc_curve(y_test, y_pred_proba_ridge)\n",
        "fpr_lasso, tpr_lasso, _ = roc_curve(y_test, y_pred_proba_lasso)\n",
        "\n",
        "# Plot the ROC curves\n",
        "plt.figure(figsize=(8, 6))\n",
        "plt.plot(fpr_sfs, tpr_sfs, label=\"Sequential Feature Selection\", linestyle='-')\n",
        "plt.plot(fpr_ridge, tpr_ridge, label=\"Ridge Regression\", linestyle='--')\n",
        "plt.plot(fpr_lasso, tpr_lasso, label=\"Lasso Regression\", linestyle='-.')\n",
        "\n",
        "# Random classifier reference line\n",
        "plt.plot([0, 1], [0, 1], color='grey', linestyle='dotted', label=\"Random Classifier\")\n",
        "\n",
        "# Labels and legend\n",
        "plt.xlabel(\"False Positive Rate (FPR)\")\n",
        "plt.ylabel(\"True Positive Rate (TPR)\")\n",
        "plt.title(\"ROC Curve Comparison: Sequential FS vs Ridge vs Lasso\")\n",
        "plt.legend(loc=\"lower right\")\n",
        "plt.grid(True)\n",
        "\n",
        "# Show plot\n",
        "plt.show()"
      ],
      "metadata": {
        "id": "VI4pxr-mHj8G",
        "colab": {
          "base_uri": "https://localhost:8080/",
          "height": 564
        },
        "outputId": "e3174d63-8a8b-400c-f1be-1f65c91d3371"
      },
      "execution_count": 28,
      "outputs": [
        {
          "output_type": "display_data",
          "data": {
            "text/plain": [
              "<Figure size 800x600 with 1 Axes>"
            ],
            "image/png": "[encoded data removed]"
          },
          "metadata": {}
        }
      ]
    },
    {
      "cell_type": "markdown",
      "source": [
        "The ROC curve comparison highlights that all three models—Sequential Feature Selection (SFS), Ridge Regression, and Lasso Regression—perform significantly better than a random classifier, demonstrating strong predictive capabilities for distinguishing between Severe and Non-Severe earthquakes. The curves for SFS and Lasso regression closely follow each other, suggesting that both approaches effectively identify key predictive features while maintaining model flexibility. Ridge regression, while still performing well, appears slightly below the others in some regions, indicating that retaining all features with small weight adjustments may not always be the most optimal strategy. The overall high True Positive Rate (TPR) with relatively low False Positive Rate (FPR) across all models suggests that the dataset contains strong predictive signals for earthquake severity. However, the trade-off between feature selection (Lasso, SFS) and full regularization (Ridge) implies that different modeling approaches can yield similar performance while affecting interpretability and model complexity differently."
      ],
      "metadata": {
        "id": "rxg6xDcWPzyc"
      }
    }
  ]
}