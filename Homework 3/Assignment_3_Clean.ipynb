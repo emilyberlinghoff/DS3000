{
  "cells": [
    {
      "cell_type": "markdown",
      "metadata": {
        "id": "view-in-github",
        "colab_type": "text"
      },
      "source": [
        "<a href=\"https://colab.research.google.com/github/emilyberlinghoff/DS3000/blob/main/Homework%203/Assignment_3_Clean.ipynb\" target=\"_parent\"><img src=\"https://colab.research.google.com/assets/colab-badge.svg\" alt=\"Open In Colab\"/></a>"
      ]
    },
    {
      "cell_type": "markdown",
      "metadata": {
        "id": "7_BO2jYnC1ge"
      },
      "source": [
        "# Assignment 3: Classification with Logistic Regression\n",
        "\n",
        "## Instructions\n",
        "\n",
        "* Complete the assignment as outlined below.\n",
        "* Restart your kernel and rerun your cells before submission.\n",
        "* Submit your completed notebook (.ipynb)."
      ],
      "id": "7_BO2jYnC1ge"
    },
    {
      "cell_type": "markdown",
      "metadata": {
        "id": "mmkN-Z_BC1gg"
      },
      "source": [
        "## Dataset Information\n",
        "\n",
        "The dataset contains health-related data for predicting diabetes. Below are the features:\n",
        "\n",
        "* `Pregnancies`: Number of pregnancies\n",
        "* `Glucose`: Plasma glucose concentration\n",
        "* `BloodPressure`: Diastolic blood pressure (mm Hg)\n",
        "* `SkinThickness`: Triceps skin fold thickness (mm)\n",
        "* `Insulin`: 2-hour serum insulin (mu U/ml)\n",
        "* `BMI`: Body mass index\n",
        "* `DiabetesPedigreeFunction`: Diabetes pedigree function\n",
        "* `Age`: Age (years)\n",
        "* `Outcome`: Target variable (1 = Diabetes, 0 = No Diabetes)\n",
        "\n",
        "Your goal in this homework is to train a first model for predicting the probability that a patient has diabetes given their healthcare data."
      ],
      "id": "mmkN-Z_BC1gg"
    },
    {
      "cell_type": "code",
      "execution_count": 62,
      "metadata": {
        "id": "Up1wd2v7DhYj"
      },
      "outputs": [],
      "source": [
        "# Suggested packages, you can add more if you think they are necessary.\n",
        "import pandas as pd\n",
        "import numpy as np\n",
        "from sklearn.model_selection import train_test_split\n",
        "from sklearn.preprocessing import StandardScaler\n",
        "from sklearn.linear_model import LogisticRegression\n",
        "from sklearn.metrics import accuracy_score\n",
        "from sklearn.metrics import roc_curve, roc_auc_score\n",
        "from sklearn.pipeline import Pipeline\n",
        "\n",
        "# Plotting packages\n",
        "import matplotlib.pyplot as plt\n",
        "import seaborn as sns\n",
        "%matplotlib inline"
      ],
      "id": "Up1wd2v7DhYj"
    },
    {
      "cell_type": "code",
      "execution_count": 63,
      "metadata": {
        "id": "X3iFlWRnDoDG"
      },
      "outputs": [],
      "source": [
        "# Download the data. Uncomment if using Colab.\n",
        "# !gdown https://drive.google.com/uc?id=1-_YcEl0q5LsDXRq5eix9K4gjSq78Ffd5"
      ],
      "id": "X3iFlWRnDoDG"
    },
    {
      "cell_type": "markdown",
      "metadata": {
        "id": "yafwp1DBC1gg"
      },
      "source": [
        "## Question 1:\n",
        "\n",
        "1. Load the dataset `diabetes.csv` and display the first 5 rows.\n",
        "2. Print out all columns in the dataset and identify any missing values.\n",
        "3. Show the descriptive statistics of the data."
      ],
      "id": "yafwp1DBC1gg"
    },
    {
      "cell_type": "code",
      "execution_count": 64,
      "metadata": {
        "id": "byg7RoRhC1gh"
      },
      "outputs": [],
      "source": [
        "# Load the dataset\n",
        "file_path = \"diabetes.csv\"\n",
        "\n",
        "# Check if file exists before loading\n",
        "try:\n",
        "    df = pd.read_csv(file_path)\n",
        "except FileNotFoundError:\n",
        "    df = None\n",
        "    print(\"The file 'diabetes.csv' was not found. Please upload it.\")"
      ],
      "id": "byg7RoRhC1gh"
    },
    {
      "cell_type": "code",
      "execution_count": 65,
      "metadata": {
        "id": "OUCLqNW9C1gh",
        "colab": {
          "base_uri": "https://localhost:8080/"
        },
        "outputId": "504d8211-32cf-4f5e-9901-6e920758e045"
      },
      "outputs": [
        {
          "output_type": "stream",
          "name": "stdout",
          "text": [
            "Column Names:\n",
            "['Pregnancies', 'Glucose', 'BloodPressure', 'SkinThickness', 'Insulin', 'BMI', 'DiabetesPedigreeFunction', 'Age', 'Outcome']\n",
            "\n",
            "Missing Values in Each Column:\n",
            "Pregnancies                 0\n",
            "Glucose                     0\n",
            "BloodPressure               0\n",
            "SkinThickness               0\n",
            "Insulin                     0\n",
            "BMI                         0\n",
            "DiabetesPedigreeFunction    0\n",
            "Age                         0\n",
            "Outcome                     0\n",
            "dtype: int64\n"
          ]
        }
      ],
      "source": [
        "# Report number of null values\n",
        "\n",
        "print(\"Column Names:\")\n",
        "print(df.columns.tolist())\n",
        "\n",
        "print(\"\\nMissing Values in Each Column:\")\n",
        "print(df.isnull().sum())"
      ],
      "id": "OUCLqNW9C1gh"
    },
    {
      "cell_type": "code",
      "execution_count": 66,
      "metadata": {
        "id": "TZDyr2WQC1gi",
        "colab": {
          "base_uri": "https://localhost:8080/"
        },
        "outputId": "976ca0ad-1319-45f6-b744-fdfb28ca530d"
      },
      "outputs": [
        {
          "output_type": "stream",
          "name": "stdout",
          "text": [
            "       Pregnancies     Glucose  BloodPressure  SkinThickness     Insulin  \\\n",
            "count   768.000000  768.000000     768.000000     768.000000  768.000000   \n",
            "mean      3.845052  120.894531      69.105469      20.536458   79.799479   \n",
            "std       3.369578   31.972618      19.355807      15.952218  115.244002   \n",
            "min       0.000000    0.000000       0.000000       0.000000    0.000000   \n",
            "25%       1.000000   99.000000      62.000000       0.000000    0.000000   \n",
            "50%       3.000000  117.000000      72.000000      23.000000   30.500000   \n",
            "75%       6.000000  140.250000      80.000000      32.000000  127.250000   \n",
            "max      17.000000  199.000000     122.000000      99.000000  846.000000   \n",
            "\n",
            "              BMI  DiabetesPedigreeFunction         Age     Outcome  \n",
            "count  768.000000                768.000000  768.000000  768.000000  \n",
            "mean    31.992578                  0.471876   33.240885    0.348958  \n",
            "std      7.884160                  0.331329   11.760232    0.476951  \n",
            "min      0.000000                  0.078000   21.000000    0.000000  \n",
            "25%     27.300000                  0.243750   24.000000    0.000000  \n",
            "50%     32.000000                  0.372500   29.000000    0.000000  \n",
            "75%     36.600000                  0.626250   41.000000    1.000000  \n",
            "max     67.100000                  2.420000   81.000000    1.000000  \n"
          ]
        }
      ],
      "source": [
        "# Show descriptive statistics\n",
        "print(df.describe())"
      ],
      "id": "TZDyr2WQC1gi"
    },
    {
      "cell_type": "markdown",
      "metadata": {
        "id": "nwWoCjpRC1gi"
      },
      "source": [
        "## Question 2:\n",
        "\n",
        "What is the baseline accuracy for this classification problem? Baseline accuracy is the accuracy of always predicting the most common class. You can assume there are no outliers in the data."
      ],
      "id": "nwWoCjpRC1gi"
    },
    {
      "cell_type": "code",
      "execution_count": 67,
      "metadata": {
        "id": "6jr2T0zPC1gj",
        "colab": {
          "base_uri": "https://localhost:8080/"
        },
        "outputId": "958009e1-6ba7-4359-efa0-af88b1faa97c"
      },
      "outputs": [
        {
          "output_type": "stream",
          "name": "stdout",
          "text": [
            "Most common class: 0\n",
            "Baseline Accuracy: 0.6510\n"
          ]
        }
      ],
      "source": [
        "# Question 2 code\n",
        "\n",
        "# Find the most common class\n",
        "most_common_class = df[\"Outcome\"].value_counts().idxmax()\n",
        "most_common_count = df[\"Outcome\"].value_counts().max()\n",
        "\n",
        "# Calculate baseline accuracy\n",
        "baseline_accuracy = most_common_count / len(df)\n",
        "\n",
        "print(f\"Most common class: {most_common_class}\")\n",
        "print(f\"Baseline Accuracy: {baseline_accuracy:.4f}\")"
      ],
      "id": "6jr2T0zPC1gj"
    },
    {
      "cell_type": "markdown",
      "metadata": {
        "id": "TY8uSjkkC1gk"
      },
      "source": [
        "## Question 3:\n",
        "\n",
        "Split the data into training and testing sets. Use 70% of the data for training and 30% for testing. Pass `random_state = 42` to `train_test_split`. Ensure the `Outcome` column is the response variable. Report the descriptive statistics of X_train and X_test."
      ],
      "id": "TY8uSjkkC1gk"
    },
    {
      "cell_type": "code",
      "execution_count": 68,
      "metadata": {
        "id": "bOQXo-DRC1gk",
        "colab": {
          "base_uri": "https://localhost:8080/"
        },
        "outputId": "38819742-f933-41ce-dc51-d8088ad5cb75"
      },
      "outputs": [
        {
          "output_type": "stream",
          "name": "stdout",
          "text": [
            "Training set shape: (537, 8) (537,)\n",
            "Testing set shape: (231, 8) (231,)\n",
            "Descriptive Statistics for X_train:\n",
            "       Pregnancies     Glucose  BloodPressure  SkinThickness     Insulin  \\\n",
            "count   537.000000  537.000000     537.000000     537.000000  537.000000   \n",
            "mean      3.726257  120.849162      69.685289      20.432030   79.836127   \n",
            "std       3.262965   32.339523      18.094374      15.490715  115.196730   \n",
            "min       0.000000    0.000000       0.000000       0.000000    0.000000   \n",
            "25%       1.000000   99.000000      64.000000       0.000000    0.000000   \n",
            "50%       3.000000  117.000000      72.000000      23.000000   36.000000   \n",
            "75%       6.000000  139.000000      80.000000      32.000000  129.000000   \n",
            "max      17.000000  199.000000     122.000000      63.000000  846.000000   \n",
            "\n",
            "              BMI  DiabetesPedigreeFunction         Age  \n",
            "count  537.000000                537.000000  537.000000  \n",
            "mean    31.975605                  0.469920   33.074488  \n",
            "std      7.624495                  0.342087   11.685319  \n",
            "min      0.000000                  0.078000   21.000000  \n",
            "25%     26.800000                  0.241000   24.000000  \n",
            "50%     32.000000                  0.374000   29.000000  \n",
            "75%     36.500000                  0.612000   41.000000  \n",
            "max     67.100000                  2.420000   81.000000  \n",
            "\n",
            "Descriptive Statistics for X_test:\n",
            "       Pregnancies     Glucose  BloodPressure  SkinThickness     Insulin  \\\n",
            "count   231.000000  231.000000     231.000000     231.000000  231.000000   \n",
            "mean      4.121212  121.000000      67.757576      20.779221   79.714286   \n",
            "std       3.597467   31.171894      21.994508      17.009171  115.604068   \n",
            "min       0.000000   61.000000       0.000000       0.000000    0.000000   \n",
            "25%       1.000000   97.500000      62.000000       0.000000    0.000000   \n",
            "50%       3.000000  115.000000      72.000000      24.000000   18.000000   \n",
            "75%       7.000000  145.000000      78.000000      33.000000  126.000000   \n",
            "max      13.000000  197.000000     114.000000      99.000000  680.000000   \n",
            "\n",
            "              BMI  DiabetesPedigreeFunction         Age  \n",
            "count  231.000000                231.000000  231.000000  \n",
            "mean    32.032035                  0.476424   33.627706  \n",
            "std      8.474243                  0.305519   11.949165  \n",
            "min      0.000000                  0.088000   21.000000  \n",
            "25%     28.350000                  0.245500   24.000000  \n",
            "50%     32.700000                  0.370000   29.000000  \n",
            "75%     36.800000                  0.666000   41.000000  \n",
            "max     57.300000                  1.600000   67.000000  \n"
          ]
        }
      ],
      "source": [
        "# Question 3 code\n",
        "# Define features (X) and target (y)\n",
        "X = df.drop(columns=[\"Outcome\"])  # All columns except \"Outcome\"\n",
        "y = df[\"Outcome\"]  # Target variable\n",
        "\n",
        "# Split the dataset into training (70%) and testing (30%)\n",
        "X_train, X_test, y_train, y_test = train_test_split(X, y, test_size=0.3, random_state=42)\n",
        "\n",
        "# Print dataset shapes\n",
        "print(\"Training set shape:\", X_train.shape, y_train.shape)\n",
        "print(\"Testing set shape:\", X_test.shape, y_test.shape)\n",
        "\n",
        "\n",
        "\n",
        "# Show the descriptive stats\n",
        "print(\"Descriptive Statistics for X_train:\")\n",
        "print(X_train.describe())\n",
        "print(\"\\nDescriptive Statistics for X_test:\")\n",
        "print(X_test.describe())\n",
        "\n",
        "\n"
      ],
      "id": "bOQXo-DRC1gk"
    },
    {
      "cell_type": "markdown",
      "metadata": {
        "id": "of8-EZwnJZPi"
      },
      "source": [
        "**Written question: Are the descriptive statistics of the X_train and X_test datasets similar? Is this a reasonable dataset for the problem?**"
      ],
      "id": "of8-EZwnJZPi"
    },
    {
      "cell_type": "markdown",
      "metadata": {
        "id": "M7EFl6XfJ9XB"
      },
      "source": [
        "**Written answer:**"
      ],
      "id": "M7EFl6XfJ9XB"
    },
    {
      "cell_type": "markdown",
      "metadata": {
        "id": "MaiclNWgC1gl"
      },
      "source": [
        "## Question 4:\n",
        "\n",
        "1. Create a pipeline that first standardizes the data using a z-scale transform, and then trains an instance of `LogisticRegression` with `penalty = None` and `max_iter = 1000`. Use the same random seed you used before.\n",
        "2. Train the pipeline using the training set."
      ],
      "id": "MaiclNWgC1gl"
    },
    {
      "cell_type": "code",
      "execution_count": 69,
      "metadata": {
        "id": "zX-AUhrpC1gl",
        "colab": {
          "base_uri": "https://localhost:8080/",
          "height": 155
        },
        "outputId": "b2a3496a-eb5c-45af-9dfd-600d3bab23f0"
      },
      "outputs": [
        {
          "output_type": "execute_result",
          "data": {
            "text/plain": [
              "Pipeline(steps=[('scaler', StandardScaler()),\n",
              "                ('logreg',\n",
              "                 LogisticRegression(max_iter=1000, penalty=None,\n",
              "                                    random_state=42))])"
            ],
            "text/html": [
              "<style>#sk-container-id-4 {\n",
              "  /* Definition of color scheme common for light and dark mode */\n",
              "  --sklearn-color-text: #000;\n",
              "  --sklearn-color-text-muted: #666;\n",
              "  --sklearn-color-line: gray;\n",
              "  /* Definition of color scheme for unfitted estimators */\n",
              "  --sklearn-color-unfitted-level-0: #fff5e6;\n",
              "  --sklearn-color-unfitted-level-1: #f6e4d2;\n",
              "  --sklearn-color-unfitted-level-2: #ffe0b3;\n",
              "  --sklearn-color-unfitted-level-3: chocolate;\n",
              "  /* Definition of color scheme for fitted estimators */\n",
              "  --sklearn-color-fitted-level-0: #f0f8ff;\n",
              "  --sklearn-color-fitted-level-1: #d4ebff;\n",
              "  --sklearn-color-fitted-level-2: #b3dbfd;\n",
              "  --sklearn-color-fitted-level-3: cornflowerblue;\n",
              "\n",
              "  /* Specific color for light theme */\n",
              "  --sklearn-color-text-on-default-background: var(--sg-text-color, var(--theme-code-foreground, var(--jp-content-font-color1, black)));\n",
              "  --sklearn-color-background: var(--sg-background-color, var(--theme-background, var(--jp-layout-color0, white)));\n",
              "  --sklearn-color-border-box: var(--sg-text-color, var(--theme-code-foreground, var(--jp-content-font-color1, black)));\n",
              "  --sklearn-color-icon: #696969;\n",
              "\n",
              "  @media (prefers-color-scheme: dark) {\n",
              "    /* Redefinition of color scheme for dark theme */\n",
              "    --sklearn-color-text-on-default-background: var(--sg-text-color, var(--theme-code-foreground, var(--jp-content-font-color1, white)));\n",
              "    --sklearn-color-background: var(--sg-background-color, var(--theme-background, var(--jp-layout-color0, #111)));\n",
              "    --sklearn-color-border-box: var(--sg-text-color, var(--theme-code-foreground, var(--jp-content-font-color1, white)));\n",
              "    --sklearn-color-icon: #878787;\n",
              "  }\n",
              "}\n",
              "\n",
              "#sk-container-id-4 {\n",
              "  color: var(--sklearn-color-text);\n",
              "}\n",
              "\n",
              "#sk-container-id-4 pre {\n",
              "  padding: 0;\n",
              "}\n",
              "\n",
              "#sk-container-id-4 input.sk-hidden--visually {\n",
              "  border: 0;\n",
              "  clip: rect(1px 1px 1px 1px);\n",
              "  clip: rect(1px, 1px, 1px, 1px);\n",
              "  height: 1px;\n",
              "  margin: -1px;\n",
              "  overflow: hidden;\n",
              "  padding: 0;\n",
              "  position: absolute;\n",
              "  width: 1px;\n",
              "}\n",
              "\n",
              "#sk-container-id-4 div.sk-dashed-wrapped {\n",
              "  border: 1px dashed var(--sklearn-color-line);\n",
              "  margin: 0 0.4em 0.5em 0.4em;\n",
              "  box-sizing: border-box;\n",
              "  padding-bottom: 0.4em;\n",
              "  background-color: var(--sklearn-color-background);\n",
              "}\n",
              "\n",
              "#sk-container-id-4 div.sk-container {\n",
              "  /* jupyter's `normalize.less` sets `[hidden] { display: none; }`\n",
              "     but bootstrap.min.css set `[hidden] { display: none !important; }`\n",
              "     so we also need the `!important` here to be able to override the\n",
              "     default hidden behavior on the sphinx rendered scikit-learn.org.\n",
              "     See: https://github.com/scikit-learn/scikit-learn/issues/21755 */\n",
              "  display: inline-block !important;\n",
              "  position: relative;\n",
              "}\n",
              "\n",
              "#sk-container-id-4 div.sk-text-repr-fallback {\n",
              "  display: none;\n",
              "}\n",
              "\n",
              "div.sk-parallel-item,\n",
              "div.sk-serial,\n",
              "div.sk-item {\n",
              "  /* draw centered vertical line to link estimators */\n",
              "  background-image: linear-gradient(var(--sklearn-color-text-on-default-background), var(--sklearn-color-text-on-default-background));\n",
              "  background-size: 2px 100%;\n",
              "  background-repeat: no-repeat;\n",
              "  background-position: center center;\n",
              "}\n",
              "\n",
              "/* Parallel-specific style estimator block */\n",
              "\n",
              "#sk-container-id-4 div.sk-parallel-item::after {\n",
              "  content: \"\";\n",
              "  width: 100%;\n",
              "  border-bottom: 2px solid var(--sklearn-color-text-on-default-background);\n",
              "  flex-grow: 1;\n",
              "}\n",
              "\n",
              "#sk-container-id-4 div.sk-parallel {\n",
              "  display: flex;\n",
              "  align-items: stretch;\n",
              "  justify-content: center;\n",
              "  background-color: var(--sklearn-color-background);\n",
              "  position: relative;\n",
              "}\n",
              "\n",
              "#sk-container-id-4 div.sk-parallel-item {\n",
              "  display: flex;\n",
              "  flex-direction: column;\n",
              "}\n",
              "\n",
              "#sk-container-id-4 div.sk-parallel-item:first-child::after {\n",
              "  align-self: flex-end;\n",
              "  width: 50%;\n",
              "}\n",
              "\n",
              "#sk-container-id-4 div.sk-parallel-item:last-child::after {\n",
              "  align-self: flex-start;\n",
              "  width: 50%;\n",
              "}\n",
              "\n",
              "#sk-container-id-4 div.sk-parallel-item:only-child::after {\n",
              "  width: 0;\n",
              "}\n",
              "\n",
              "/* Serial-specific style estimator block */\n",
              "\n",
              "#sk-container-id-4 div.sk-serial {\n",
              "  display: flex;\n",
              "  flex-direction: column;\n",
              "  align-items: center;\n",
              "  background-color: var(--sklearn-color-background);\n",
              "  padding-right: 1em;\n",
              "  padding-left: 1em;\n",
              "}\n",
              "\n",
              "\n",
              "/* Toggleable style: style used for estimator/Pipeline/ColumnTransformer box that is\n",
              "clickable and can be expanded/collapsed.\n",
              "- Pipeline and ColumnTransformer use this feature and define the default style\n",
              "- Estimators will overwrite some part of the style using the `sk-estimator` class\n",
              "*/\n",
              "\n",
              "/* Pipeline and ColumnTransformer style (default) */\n",
              "\n",
              "#sk-container-id-4 div.sk-toggleable {\n",
              "  /* Default theme specific background. It is overwritten whether we have a\n",
              "  specific estimator or a Pipeline/ColumnTransformer */\n",
              "  background-color: var(--sklearn-color-background);\n",
              "}\n",
              "\n",
              "/* Toggleable label */\n",
              "#sk-container-id-4 label.sk-toggleable__label {\n",
              "  cursor: pointer;\n",
              "  display: flex;\n",
              "  width: 100%;\n",
              "  margin-bottom: 0;\n",
              "  padding: 0.5em;\n",
              "  box-sizing: border-box;\n",
              "  text-align: center;\n",
              "  align-items: start;\n",
              "  justify-content: space-between;\n",
              "  gap: 0.5em;\n",
              "}\n",
              "\n",
              "#sk-container-id-4 label.sk-toggleable__label .caption {\n",
              "  font-size: 0.6rem;\n",
              "  font-weight: lighter;\n",
              "  color: var(--sklearn-color-text-muted);\n",
              "}\n",
              "\n",
              "#sk-container-id-4 label.sk-toggleable__label-arrow:before {\n",
              "  /* Arrow on the left of the label */\n",
              "  content: \"▸\";\n",
              "  float: left;\n",
              "  margin-right: 0.25em;\n",
              "  color: var(--sklearn-color-icon);\n",
              "}\n",
              "\n",
              "#sk-container-id-4 label.sk-toggleable__label-arrow:hover:before {\n",
              "  color: var(--sklearn-color-text);\n",
              "}\n",
              "\n",
              "/* Toggleable content - dropdown */\n",
              "\n",
              "#sk-container-id-4 div.sk-toggleable__content {\n",
              "  max-height: 0;\n",
              "  max-width: 0;\n",
              "  overflow: hidden;\n",
              "  text-align: left;\n",
              "  /* unfitted */\n",
              "  background-color: var(--sklearn-color-unfitted-level-0);\n",
              "}\n",
              "\n",
              "#sk-container-id-4 div.sk-toggleable__content.fitted {\n",
              "  /* fitted */\n",
              "  background-color: var(--sklearn-color-fitted-level-0);\n",
              "}\n",
              "\n",
              "#sk-container-id-4 div.sk-toggleable__content pre {\n",
              "  margin: 0.2em;\n",
              "  border-radius: 0.25em;\n",
              "  color: var(--sklearn-color-text);\n",
              "  /* unfitted */\n",
              "  background-color: var(--sklearn-color-unfitted-level-0);\n",
              "}\n",
              "\n",
              "#sk-container-id-4 div.sk-toggleable__content.fitted pre {\n",
              "  /* unfitted */\n",
              "  background-color: var(--sklearn-color-fitted-level-0);\n",
              "}\n",
              "\n",
              "#sk-container-id-4 input.sk-toggleable__control:checked~div.sk-toggleable__content {\n",
              "  /* Expand drop-down */\n",
              "  max-height: 200px;\n",
              "  max-width: 100%;\n",
              "  overflow: auto;\n",
              "}\n",
              "\n",
              "#sk-container-id-4 input.sk-toggleable__control:checked~label.sk-toggleable__label-arrow:before {\n",
              "  content: \"▾\";\n",
              "}\n",
              "\n",
              "/* Pipeline/ColumnTransformer-specific style */\n",
              "\n",
              "#sk-container-id-4 div.sk-label input.sk-toggleable__control:checked~label.sk-toggleable__label {\n",
              "  color: var(--sklearn-color-text);\n",
              "  background-color: var(--sklearn-color-unfitted-level-2);\n",
              "}\n",
              "\n",
              "#sk-container-id-4 div.sk-label.fitted input.sk-toggleable__control:checked~label.sk-toggleable__label {\n",
              "  background-color: var(--sklearn-color-fitted-level-2);\n",
              "}\n",
              "\n",
              "/* Estimator-specific style */\n",
              "\n",
              "/* Colorize estimator box */\n",
              "#sk-container-id-4 div.sk-estimator input.sk-toggleable__control:checked~label.sk-toggleable__label {\n",
              "  /* unfitted */\n",
              "  background-color: var(--sklearn-color-unfitted-level-2);\n",
              "}\n",
              "\n",
              "#sk-container-id-4 div.sk-estimator.fitted input.sk-toggleable__control:checked~label.sk-toggleable__label {\n",
              "  /* fitted */\n",
              "  background-color: var(--sklearn-color-fitted-level-2);\n",
              "}\n",
              "\n",
              "#sk-container-id-4 div.sk-label label.sk-toggleable__label,\n",
              "#sk-container-id-4 div.sk-label label {\n",
              "  /* The background is the default theme color */\n",
              "  color: var(--sklearn-color-text-on-default-background);\n",
              "}\n",
              "\n",
              "/* On hover, darken the color of the background */\n",
              "#sk-container-id-4 div.sk-label:hover label.sk-toggleable__label {\n",
              "  color: var(--sklearn-color-text);\n",
              "  background-color: var(--sklearn-color-unfitted-level-2);\n",
              "}\n",
              "\n",
              "/* Label box, darken color on hover, fitted */\n",
              "#sk-container-id-4 div.sk-label.fitted:hover label.sk-toggleable__label.fitted {\n",
              "  color: var(--sklearn-color-text);\n",
              "  background-color: var(--sklearn-color-fitted-level-2);\n",
              "}\n",
              "\n",
              "/* Estimator label */\n",
              "\n",
              "#sk-container-id-4 div.sk-label label {\n",
              "  font-family: monospace;\n",
              "  font-weight: bold;\n",
              "  display: inline-block;\n",
              "  line-height: 1.2em;\n",
              "}\n",
              "\n",
              "#sk-container-id-4 div.sk-label-container {\n",
              "  text-align: center;\n",
              "}\n",
              "\n",
              "/* Estimator-specific */\n",
              "#sk-container-id-4 div.sk-estimator {\n",
              "  font-family: monospace;\n",
              "  border: 1px dotted var(--sklearn-color-border-box);\n",
              "  border-radius: 0.25em;\n",
              "  box-sizing: border-box;\n",
              "  margin-bottom: 0.5em;\n",
              "  /* unfitted */\n",
              "  background-color: var(--sklearn-color-unfitted-level-0);\n",
              "}\n",
              "\n",
              "#sk-container-id-4 div.sk-estimator.fitted {\n",
              "  /* fitted */\n",
              "  background-color: var(--sklearn-color-fitted-level-0);\n",
              "}\n",
              "\n",
              "/* on hover */\n",
              "#sk-container-id-4 div.sk-estimator:hover {\n",
              "  /* unfitted */\n",
              "  background-color: var(--sklearn-color-unfitted-level-2);\n",
              "}\n",
              "\n",
              "#sk-container-id-4 div.sk-estimator.fitted:hover {\n",
              "  /* fitted */\n",
              "  background-color: var(--sklearn-color-fitted-level-2);\n",
              "}\n",
              "\n",
              "/* Specification for estimator info (e.g. \"i\" and \"?\") */\n",
              "\n",
              "/* Common style for \"i\" and \"?\" */\n",
              "\n",
              ".sk-estimator-doc-link,\n",
              "a:link.sk-estimator-doc-link,\n",
              "a:visited.sk-estimator-doc-link {\n",
              "  float: right;\n",
              "  font-size: smaller;\n",
              "  line-height: 1em;\n",
              "  font-family: monospace;\n",
              "  background-color: var(--sklearn-color-background);\n",
              "  border-radius: 1em;\n",
              "  height: 1em;\n",
              "  width: 1em;\n",
              "  text-decoration: none !important;\n",
              "  margin-left: 0.5em;\n",
              "  text-align: center;\n",
              "  /* unfitted */\n",
              "  border: var(--sklearn-color-unfitted-level-1) 1pt solid;\n",
              "  color: var(--sklearn-color-unfitted-level-1);\n",
              "}\n",
              "\n",
              ".sk-estimator-doc-link.fitted,\n",
              "a:link.sk-estimator-doc-link.fitted,\n",
              "a:visited.sk-estimator-doc-link.fitted {\n",
              "  /* fitted */\n",
              "  border: var(--sklearn-color-fitted-level-1) 1pt solid;\n",
              "  color: var(--sklearn-color-fitted-level-1);\n",
              "}\n",
              "\n",
              "/* On hover */\n",
              "div.sk-estimator:hover .sk-estimator-doc-link:hover,\n",
              ".sk-estimator-doc-link:hover,\n",
              "div.sk-label-container:hover .sk-estimator-doc-link:hover,\n",
              ".sk-estimator-doc-link:hover {\n",
              "  /* unfitted */\n",
              "  background-color: var(--sklearn-color-unfitted-level-3);\n",
              "  color: var(--sklearn-color-background);\n",
              "  text-decoration: none;\n",
              "}\n",
              "\n",
              "div.sk-estimator.fitted:hover .sk-estimator-doc-link.fitted:hover,\n",
              ".sk-estimator-doc-link.fitted:hover,\n",
              "div.sk-label-container:hover .sk-estimator-doc-link.fitted:hover,\n",
              ".sk-estimator-doc-link.fitted:hover {\n",
              "  /* fitted */\n",
              "  background-color: var(--sklearn-color-fitted-level-3);\n",
              "  color: var(--sklearn-color-background);\n",
              "  text-decoration: none;\n",
              "}\n",
              "\n",
              "/* Span, style for the box shown on hovering the info icon */\n",
              ".sk-estimator-doc-link span {\n",
              "  display: none;\n",
              "  z-index: 9999;\n",
              "  position: relative;\n",
              "  font-weight: normal;\n",
              "  right: .2ex;\n",
              "  padding: .5ex;\n",
              "  margin: .5ex;\n",
              "  width: min-content;\n",
              "  min-width: 20ex;\n",
              "  max-width: 50ex;\n",
              "  color: var(--sklearn-color-text);\n",
              "  box-shadow: 2pt 2pt 4pt #999;\n",
              "  /* unfitted */\n",
              "  background: var(--sklearn-color-unfitted-level-0);\n",
              "  border: .5pt solid var(--sklearn-color-unfitted-level-3);\n",
              "}\n",
              "\n",
              ".sk-estimator-doc-link.fitted span {\n",
              "  /* fitted */\n",
              "  background: var(--sklearn-color-fitted-level-0);\n",
              "  border: var(--sklearn-color-fitted-level-3);\n",
              "}\n",
              "\n",
              ".sk-estimator-doc-link:hover span {\n",
              "  display: block;\n",
              "}\n",
              "\n",
              "/* \"?\"-specific style due to the `<a>` HTML tag */\n",
              "\n",
              "#sk-container-id-4 a.estimator_doc_link {\n",
              "  float: right;\n",
              "  font-size: 1rem;\n",
              "  line-height: 1em;\n",
              "  font-family: monospace;\n",
              "  background-color: var(--sklearn-color-background);\n",
              "  border-radius: 1rem;\n",
              "  height: 1rem;\n",
              "  width: 1rem;\n",
              "  text-decoration: none;\n",
              "  /* unfitted */\n",
              "  color: var(--sklearn-color-unfitted-level-1);\n",
              "  border: var(--sklearn-color-unfitted-level-1) 1pt solid;\n",
              "}\n",
              "\n",
              "#sk-container-id-4 a.estimator_doc_link.fitted {\n",
              "  /* fitted */\n",
              "  border: var(--sklearn-color-fitted-level-1) 1pt solid;\n",
              "  color: var(--sklearn-color-fitted-level-1);\n",
              "}\n",
              "\n",
              "/* On hover */\n",
              "#sk-container-id-4 a.estimator_doc_link:hover {\n",
              "  /* unfitted */\n",
              "  background-color: var(--sklearn-color-unfitted-level-3);\n",
              "  color: var(--sklearn-color-background);\n",
              "  text-decoration: none;\n",
              "}\n",
              "\n",
              "#sk-container-id-4 a.estimator_doc_link.fitted:hover {\n",
              "  /* fitted */\n",
              "  background-color: var(--sklearn-color-fitted-level-3);\n",
              "}\n",
              "</style><div id=\"sk-container-id-4\" class=\"sk-top-container\"><div class=\"sk-text-repr-fallback\"><pre>Pipeline(steps=[(&#x27;scaler&#x27;, StandardScaler()),\n",
              "                (&#x27;logreg&#x27;,\n",
              "                 LogisticRegression(max_iter=1000, penalty=None,\n",
              "                                    random_state=42))])</pre><b>In a Jupyter environment, please rerun this cell to show the HTML representation or trust the notebook. <br />On GitHub, the HTML representation is unable to render, please try loading this page with nbviewer.org.</b></div><div class=\"sk-container\" hidden><div class=\"sk-item sk-dashed-wrapped\"><div class=\"sk-label-container\"><div class=\"sk-label fitted sk-toggleable\"><input class=\"sk-toggleable__control sk-hidden--visually\" id=\"sk-estimator-id-10\" type=\"checkbox\" ><label for=\"sk-estimator-id-10\" class=\"sk-toggleable__label fitted sk-toggleable__label-arrow\"><div><div>Pipeline</div></div><div><a class=\"sk-estimator-doc-link fitted\" rel=\"noreferrer\" target=\"_blank\" href=\"https://scikit-learn.org/1.6/modules/generated/sklearn.pipeline.Pipeline.html\">?<span>Documentation for Pipeline</span></a><span class=\"sk-estimator-doc-link fitted\">i<span>Fitted</span></span></div></label><div class=\"sk-toggleable__content fitted\"><pre>Pipeline(steps=[(&#x27;scaler&#x27;, StandardScaler()),\n",
              "                (&#x27;logreg&#x27;,\n",
              "                 LogisticRegression(max_iter=1000, penalty=None,\n",
              "                                    random_state=42))])</pre></div> </div></div><div class=\"sk-serial\"><div class=\"sk-item\"><div class=\"sk-estimator fitted sk-toggleable\"><input class=\"sk-toggleable__control sk-hidden--visually\" id=\"sk-estimator-id-11\" type=\"checkbox\" ><label for=\"sk-estimator-id-11\" class=\"sk-toggleable__label fitted sk-toggleable__label-arrow\"><div><div>StandardScaler</div></div><div><a class=\"sk-estimator-doc-link fitted\" rel=\"noreferrer\" target=\"_blank\" href=\"https://scikit-learn.org/1.6/modules/generated/sklearn.preprocessing.StandardScaler.html\">?<span>Documentation for StandardScaler</span></a></div></label><div class=\"sk-toggleable__content fitted\"><pre>StandardScaler()</pre></div> </div></div><div class=\"sk-item\"><div class=\"sk-estimator fitted sk-toggleable\"><input class=\"sk-toggleable__control sk-hidden--visually\" id=\"sk-estimator-id-12\" type=\"checkbox\" ><label for=\"sk-estimator-id-12\" class=\"sk-toggleable__label fitted sk-toggleable__label-arrow\"><div><div>LogisticRegression</div></div><div><a class=\"sk-estimator-doc-link fitted\" rel=\"noreferrer\" target=\"_blank\" href=\"https://scikit-learn.org/1.6/modules/generated/sklearn.linear_model.LogisticRegression.html\">?<span>Documentation for LogisticRegression</span></a></div></label><div class=\"sk-toggleable__content fitted\"><pre>LogisticRegression(max_iter=1000, penalty=None, random_state=42)</pre></div> </div></div></div></div></div></div>"
            ]
          },
          "metadata": {},
          "execution_count": 69
        }
      ],
      "source": [
        "# Question 4 code\n",
        "# Create a pipeline that scales the features and trains a logistic regression model\n",
        "\n",
        "# Define the pipeline\n",
        "pipeline = Pipeline([\n",
        "    (\"scaler\", StandardScaler()),  # Z-score normalization\n",
        "    (\"logreg\", LogisticRegression(penalty=None, max_iter=1000, random_state=42))  # Logistic Regression model\n",
        "])\n",
        "\n",
        "\n",
        "\n",
        "# Train the pipeline\n",
        "pipeline.fit(X_train, y_train)"
      ],
      "id": "zX-AUhrpC1gl"
    },
    {
      "cell_type": "markdown",
      "source": [
        "## Question 5:\n",
        "\n",
        "1. Compute the model’s accuracy on the training and testing sets.\n",
        "2. Display the model’s coefficients and intercept."
      ],
      "metadata": {
        "id": "WAnv4-Nqhp_U"
      },
      "id": "WAnv4-Nqhp_U"
    },
    {
      "cell_type": "code",
      "execution_count": 70,
      "metadata": {
        "id": "eyXmnFjRL7D4",
        "colab": {
          "base_uri": "https://localhost:8080/"
        },
        "outputId": "d240528d-8d29-4e6e-d19a-6265db234f74"
      },
      "outputs": [
        {
          "output_type": "stream",
          "name": "stdout",
          "text": [
            "Model Coefficients:\n",
            "[[ 0.18924815  1.15855495 -0.19573648 -0.02434606 -0.11336718  0.8311444\n",
            "   0.14430978  0.42013711]]\n",
            "\n",
            "Intercept:\n",
            "[-0.88707556]\n"
          ]
        }
      ],
      "source": [
        "# Display coefficients\n",
        "# Get the training parameters in a dataframe with the corresponding feature names\n",
        "logreg_model = pipeline.named_steps[\"logreg\"]\n",
        "print(\"Model Coefficients:\")\n",
        "print(logreg_model.coef_)\n",
        "\n",
        "\n",
        "\n",
        "# Get the intercept of the logistic regression model\n",
        "print(\"\\nIntercept:\")\n",
        "print(logreg_model.intercept_)\n"
      ],
      "id": "eyXmnFjRL7D4"
    },
    {
      "cell_type": "code",
      "execution_count": 71,
      "metadata": {
        "id": "3U4frtj0MN0q",
        "colab": {
          "base_uri": "https://localhost:8080/"
        },
        "outputId": "a0b665fb-2bcd-4036-eefe-6f7d56c588b9"
      },
      "outputs": [
        {
          "output_type": "stream",
          "name": "stdout",
          "text": [
            "Training Accuracy: 0.7821\n",
            "Testing Accuracy: 0.7359\n"
          ]
        }
      ],
      "source": [
        "# Calculate accuracy\n",
        "\n",
        "# Predict on training and testing sets\n",
        "y_train_pred = pipeline.predict(X_train)\n",
        "y_test_pred = pipeline.predict(X_test)\n",
        "\n",
        "# Compute accuracy\n",
        "train_accuracy = accuracy_score(y_train, y_train_pred)\n",
        "test_accuracy = accuracy_score(y_test, y_test_pred)\n",
        "\n",
        "print(f\"Training Accuracy: {train_accuracy:.4f}\")\n",
        "print(f\"Testing Accuracy: {test_accuracy:.4f}\")\n",
        "\n",
        "\n"
      ],
      "id": "3U4frtj0MN0q"
    },
    {
      "cell_type": "markdown",
      "metadata": {
        "id": "lYiUpH_YC1gm"
      },
      "source": [
        "## Question 6:\n",
        "\n",
        "1. Plot the ROC curve for the logistic regression model using the testing set. Make sure your plot includes a title and properly labeled axes.\n",
        "2. Compute the area under the curve (AUC). Report the AUC at the top-left of your plot."
      ],
      "id": "lYiUpH_YC1gm"
    },
    {
      "cell_type": "code",
      "execution_count": 72,
      "metadata": {
        "id": "9KVu82JLC1gn",
        "colab": {
          "base_uri": "https://localhost:8080/",
          "height": 564
        },
        "outputId": "8b4bcd51-dfd7-49e7-ccee-aa6b54bc0dfa"
      },
      "outputs": [
        {
          "output_type": "display_data",
          "data": {
            "text/plain": [
              "<Figure size 800x600 with 1 Axes>"
            ],
            "image/png": "[encoded data removed]"
          },
          "metadata": {}
        }
      ],
      "source": [
        "# Question 6 code\n",
        "# Compute probabilities\n",
        "y_test_prob = pipeline.predict_proba(X_test)[:, 1]  # Get probabilities for class 1\n",
        "fpr, tpr, _ = roc_curve(y_test, y_test_prob)\n",
        "roc_auc = roc_auc_score(y_test, y_test_prob)\n",
        "\n",
        "\n",
        "\n",
        "# Plot ROC curve\n",
        "plt.figure(figsize=(8, 6))\n",
        "plt.plot(fpr, tpr, color='blue', lw=2, label=f'ROC curve (AUC = {roc_auc:.2f})')\n",
        "plt.plot([0, 1], [0, 1], color='gray', linestyle='--')  # Diagonal reference line\n",
        "plt.xlim([0.0, 1.0])\n",
        "plt.ylim([0.0, 1.05])\n",
        "plt.xlabel('False Positive Rate')\n",
        "plt.ylabel('True Positive Rate')\n",
        "plt.title('Receiver Operating Characteristic (ROC) Curve')\n",
        "plt.legend(loc=\"lower right\")\n",
        "plt.grid()\n",
        "plt.show()\n",
        "\n",
        "\n",
        "\n",
        "\n"
      ],
      "id": "9KVu82JLC1gn"
    },
    {
      "cell_type": "markdown",
      "metadata": {
        "id": "HCZwuokNhJ5t"
      },
      "source": [
        "**Written question: Comment on the capacity of the model to predict the outcome. Is the AUC acceptable?**"
      ],
      "id": "HCZwuokNhJ5t"
    },
    {
      "cell_type": "markdown",
      "metadata": {
        "id": "pHYWJFK0QmFG"
      },
      "source": [
        "**Written answer:**\n",
        "\n",
        "Since the AUC is greater than 0.7, it's better than mediocre. The model ranks diabetic higher than non-diabetic in th majority of the cases. The curve is also a nice curve in the way that it has a good balance between true positives false positives. Therefore, based on te 80% score, the model has a strong capacity to predict outcomes accurately."
      ],
      "id": "pHYWJFK0QmFG"
    }
  ],
  "metadata": {
    "colab": {
      "provenance": [],
      "include_colab_link": true
    },
    "kernelspec": {
      "display_name": "Python 3",
      "language": "python",
      "name": "python3"
    },
    "language_info": {
      "codemirror_mode": {
        "name": "ipython",
        "version": 3
      },
      "file_extension": ".py",
      "mimetype": "text/x-python",
      "name": "python",
      "nbconvert_exporter": "python",
      "pygments_lexer": "ipython3",
      "version": "3.7.6"
    }
  },
  "nbformat": 4,
  "nbformat_minor": 5
}